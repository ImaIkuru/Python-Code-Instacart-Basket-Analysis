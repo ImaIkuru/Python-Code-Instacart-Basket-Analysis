{
 "cells": [
  {
   "cell_type": "markdown",
   "id": "5245eb17",
   "metadata": {},
   "source": [
    "# Table of contents"
   ]
  },
  {
   "cell_type": "markdown",
   "id": "292eed8a",
   "metadata": {},
   "source": [
    "#### 1- Importing libraries/dataframe\n",
    "#### 2- Sorting products by price range: \n",
    "                                   01- If statements using loc\n",
    "                                   02- If statements with for loops¶\n",
    "#### 3- Editing column to make it busiest days and least busy days\n",
    "#### 4- Creating busiest periods column\n",
    "#### 5- Exporting dataframe"
   ]
  },
  {
   "cell_type": "markdown",
   "id": "4eac5676",
   "metadata": {},
   "source": [
    "## 1 Importing libraries/dataframe"
   ]
  },
  {
   "cell_type": "code",
   "execution_count": 33,
   "id": "ece33056",
   "metadata": {},
   "outputs": [],
   "source": [
    "#importing libraries\n",
    "import pandas as pd\n",
    "import numpy as np\n",
    "import os"
   ]
  },
  {
   "cell_type": "code",
   "execution_count": 34,
   "id": "33ac8d5f",
   "metadata": {},
   "outputs": [],
   "source": [
    "#importing ords_prods_merged dataset\n",
    "path=r'/Users/Amaikuru/Desktop/08-06-2022 Instacart Basket Analysis.nosync'"
   ]
  },
  {
   "cell_type": "code",
   "execution_count": 35,
   "id": "a83864f1",
   "metadata": {},
   "outputs": [],
   "source": [
    "ords_prods_merged=pd.read_pickle(os.path.join(path, '02 Data', 'Prepared', 'orders_products_merged.pkl'))"
   ]
  },
  {
   "cell_type": "code",
   "execution_count": 36,
   "id": "17da78c8",
   "metadata": {},
   "outputs": [],
   "source": [
    "#using subset of 1million entries\n",
    "df=ords_prods_merged[:1000000]"
   ]
  },
  {
   "cell_type": "markdown",
   "id": "08ff1cee",
   "metadata": {},
   "source": [
    "## 2 Sorting products by price range"
   ]
  },
  {
   "cell_type": "markdown",
   "id": "0d52d7c4",
   "metadata": {},
   "source": [
    "### 01 If statements using loc"
   ]
  },
  {
   "cell_type": "code",
   "execution_count": 41,
   "id": "bbe07e5f",
   "metadata": {},
   "outputs": [],
   "source": [
    "#defining function, prices >15 are high range products\n",
    "df.loc[df['prices'] > 15, 'price_range_loc'] = 'High-range product'"
   ]
  },
  {
   "cell_type": "code",
   "execution_count": 42,
   "id": "089aac78",
   "metadata": {},
   "outputs": [],
   "source": [
    "#prices less than or equals to 15 and greater than 5 are mid range products\n",
    "df.loc[(df['prices'] <= 15) & (df['prices'] > 5), 'price_range_loc'] = 'Mid-range product' "
   ]
  },
  {
   "cell_type": "code",
   "execution_count": 43,
   "id": "ca2fb92d",
   "metadata": {},
   "outputs": [],
   "source": [
    "#prices less than or equals to 5 are low range products\n",
    "df.loc[df['prices'] <= 5, 'price_range_loc'] = 'Low-range product'"
   ]
  },
  {
   "cell_type": "code",
   "execution_count": 44,
   "id": "9ca6e7ed",
   "metadata": {},
   "outputs": [
    {
     "data": {
      "text/plain": [
       "Mid-range product     652638\n",
       "Low-range product     338018\n",
       "High-range product      9344\n",
       "Name: price_range_loc, dtype: int64"
      ]
     },
     "execution_count": 44,
     "metadata": {},
     "output_type": "execute_result"
    }
   ],
   "source": [
    "df['price_range_loc'].value_counts()"
   ]
  },
  {
   "cell_type": "code",
   "execution_count": 45,
   "id": "a5d79eb0",
   "metadata": {},
   "outputs": [],
   "source": [
    "#copying frequency to clipboard\n",
    "df['price_range_loc'].value_counts().to_clipboard()"
   ]
  },
  {
   "cell_type": "code",
   "execution_count": 46,
   "id": "91576b34",
   "metadata": {},
   "outputs": [],
   "source": [
    "#applying to original dataset\n",
    "ords_prods_merged.loc[ords_prods_merged['prices'] > 15, 'price_range_loc'] = 'High-range product'"
   ]
  },
  {
   "cell_type": "code",
   "execution_count": 47,
   "id": "b8df6b8d",
   "metadata": {},
   "outputs": [],
   "source": [
    "ords_prods_merged.loc[(ords_prods_merged['prices'] <= 15) & (ords_prods_merged['prices'] > 5), 'price_range_loc'] = 'Mid-range product' "
   ]
  },
  {
   "cell_type": "code",
   "execution_count": 48,
   "id": "ccab65c6",
   "metadata": {},
   "outputs": [],
   "source": [
    "ords_prods_merged.loc[ords_prods_merged['prices'] <= 5, 'price_range_loc'] = 'Low-range product'"
   ]
  },
  {
   "cell_type": "markdown",
   "id": "97990425",
   "metadata": {},
   "source": [
    "### 02 If statements with for loops"
   ]
  },
  {
   "cell_type": "code",
   "execution_count": 49,
   "id": "e4304d1d",
   "metadata": {},
   "outputs": [],
   "source": [
    "#creating loop for the busiest day of the week\n",
    "result = []\n",
    "\n",
    "for value in ords_prods_merged[\"orders_day_of_week\"]:\n",
    "  if value == 0:\n",
    "    result.append(\"Busiest day\")\n",
    "  elif value == 4:\n",
    "    result.append(\"Least busy\")\n",
    "  else:\n",
    "    result.append(\"Regularly busy\")"
   ]
  },
  {
   "cell_type": "code",
   "execution_count": 51,
   "id": "0a5ca3c0",
   "metadata": {},
   "outputs": [],
   "source": [
    "# applying result to new column\n",
    "ords_prods_merged['busiest_day']=result"
   ]
  },
  {
   "cell_type": "code",
   "execution_count": 62,
   "id": "8619f51d",
   "metadata": {},
   "outputs": [],
   "source": [
    "ords_prods_merged['busiest_day'].value_counts().to_clipboard()"
   ]
  },
  {
   "cell_type": "markdown",
   "id": "c96267b2",
   "metadata": {},
   "source": [
    "## 3 Editing column to make it busiest days and least busy days"
   ]
  },
  {
   "cell_type": "code",
   "execution_count": 52,
   "id": "599c1fd8",
   "metadata": {},
   "outputs": [
    {
     "data": {
      "text/plain": [
       "0    6204182\n",
       "1    5660230\n",
       "6    4496490\n",
       "2    4213830\n",
       "5    4205791\n",
       "3    3840534\n",
       "4    3783802\n",
       "Name: orders_day_of_week, dtype: int64"
      ]
     },
     "execution_count": 52,
     "metadata": {},
     "output_type": "execute_result"
    }
   ],
   "source": [
    "#counting frequency\n",
    "ords_prods_merged[\"orders_day_of_week\"].value_counts(dropna=False)"
   ]
  },
  {
   "cell_type": "markdown",
   "id": "635c72f8",
   "metadata": {},
   "source": [
    "#### Saturday and Sunday are the busiest days, Monday and Tuesday are the least busy days"
   ]
  },
  {
   "cell_type": "code",
   "execution_count": 56,
   "id": "65787da6",
   "metadata": {},
   "outputs": [],
   "source": [
    "#defining loop for busiest days\n",
    "result = []\n",
    "\n",
    "for value in ords_prods_merged[\"orders_day_of_week\"]:\n",
    "  if (value == 0) or (value== 1):\n",
    "    result.append(\"Busiest days\")\n",
    "  elif (value == 4) or (value==3):\n",
    "    result.append(\"Least busy days\")\n",
    "  else:\n",
    "    result.append(\"Regularly busy\")"
   ]
  },
  {
   "cell_type": "code",
   "execution_count": 57,
   "id": "44520124",
   "metadata": {},
   "outputs": [],
   "source": [
    "#creating busiest_days column\n",
    "ords_prods_merged['busiest_days']=result"
   ]
  },
  {
   "cell_type": "code",
   "execution_count": 58,
   "id": "761859cd",
   "metadata": {},
   "outputs": [
    {
     "data": {
      "text/html": [
       "<div>\n",
       "<style scoped>\n",
       "    .dataframe tbody tr th:only-of-type {\n",
       "        vertical-align: middle;\n",
       "    }\n",
       "\n",
       "    .dataframe tbody tr th {\n",
       "        vertical-align: top;\n",
       "    }\n",
       "\n",
       "    .dataframe thead th {\n",
       "        text-align: right;\n",
       "    }\n",
       "</style>\n",
       "<table border=\"1\" class=\"dataframe\">\n",
       "  <thead>\n",
       "    <tr style=\"text-align: right;\">\n",
       "      <th></th>\n",
       "      <th>product_id</th>\n",
       "      <th>product_name</th>\n",
       "      <th>aisle_id</th>\n",
       "      <th>department_id</th>\n",
       "      <th>prices</th>\n",
       "      <th>order_id</th>\n",
       "      <th>user_id</th>\n",
       "      <th>order_number</th>\n",
       "      <th>orders_day_of_week</th>\n",
       "      <th>order_hour_of_day</th>\n",
       "      <th>days_since_prior_order</th>\n",
       "      <th>add_to_cart_order</th>\n",
       "      <th>reordered</th>\n",
       "      <th>_merge</th>\n",
       "      <th>price_range_loc</th>\n",
       "      <th>busiest_day</th>\n",
       "      <th>busiest_days</th>\n",
       "    </tr>\n",
       "  </thead>\n",
       "  <tbody>\n",
       "    <tr>\n",
       "      <th>0</th>\n",
       "      <td>1</td>\n",
       "      <td>Chocolate Sandwich Cookies</td>\n",
       "      <td>61</td>\n",
       "      <td>19</td>\n",
       "      <td>5.8</td>\n",
       "      <td>3139998</td>\n",
       "      <td>138</td>\n",
       "      <td>28</td>\n",
       "      <td>6</td>\n",
       "      <td>11</td>\n",
       "      <td>3.0</td>\n",
       "      <td>5</td>\n",
       "      <td>0</td>\n",
       "      <td>both</td>\n",
       "      <td>Mid-range product</td>\n",
       "      <td>Regularly busy</td>\n",
       "      <td>Regularly busy</td>\n",
       "    </tr>\n",
       "    <tr>\n",
       "      <th>1</th>\n",
       "      <td>1</td>\n",
       "      <td>Chocolate Sandwich Cookies</td>\n",
       "      <td>61</td>\n",
       "      <td>19</td>\n",
       "      <td>5.8</td>\n",
       "      <td>1977647</td>\n",
       "      <td>138</td>\n",
       "      <td>30</td>\n",
       "      <td>6</td>\n",
       "      <td>17</td>\n",
       "      <td>20.0</td>\n",
       "      <td>1</td>\n",
       "      <td>1</td>\n",
       "      <td>both</td>\n",
       "      <td>Mid-range product</td>\n",
       "      <td>Regularly busy</td>\n",
       "      <td>Regularly busy</td>\n",
       "    </tr>\n",
       "    <tr>\n",
       "      <th>2</th>\n",
       "      <td>1</td>\n",
       "      <td>Chocolate Sandwich Cookies</td>\n",
       "      <td>61</td>\n",
       "      <td>19</td>\n",
       "      <td>5.8</td>\n",
       "      <td>389851</td>\n",
       "      <td>709</td>\n",
       "      <td>2</td>\n",
       "      <td>0</td>\n",
       "      <td>21</td>\n",
       "      <td>6.0</td>\n",
       "      <td>20</td>\n",
       "      <td>0</td>\n",
       "      <td>both</td>\n",
       "      <td>Mid-range product</td>\n",
       "      <td>Busiest day</td>\n",
       "      <td>Busiest days</td>\n",
       "    </tr>\n",
       "    <tr>\n",
       "      <th>3</th>\n",
       "      <td>1</td>\n",
       "      <td>Chocolate Sandwich Cookies</td>\n",
       "      <td>61</td>\n",
       "      <td>19</td>\n",
       "      <td>5.8</td>\n",
       "      <td>652770</td>\n",
       "      <td>764</td>\n",
       "      <td>1</td>\n",
       "      <td>3</td>\n",
       "      <td>13</td>\n",
       "      <td>NaN</td>\n",
       "      <td>10</td>\n",
       "      <td>0</td>\n",
       "      <td>both</td>\n",
       "      <td>Mid-range product</td>\n",
       "      <td>Regularly busy</td>\n",
       "      <td>Least busy days</td>\n",
       "    </tr>\n",
       "    <tr>\n",
       "      <th>4</th>\n",
       "      <td>1</td>\n",
       "      <td>Chocolate Sandwich Cookies</td>\n",
       "      <td>61</td>\n",
       "      <td>19</td>\n",
       "      <td>5.8</td>\n",
       "      <td>1813452</td>\n",
       "      <td>764</td>\n",
       "      <td>3</td>\n",
       "      <td>4</td>\n",
       "      <td>17</td>\n",
       "      <td>9.0</td>\n",
       "      <td>11</td>\n",
       "      <td>1</td>\n",
       "      <td>both</td>\n",
       "      <td>Mid-range product</td>\n",
       "      <td>Least busy</td>\n",
       "      <td>Least busy days</td>\n",
       "    </tr>\n",
       "  </tbody>\n",
       "</table>\n",
       "</div>"
      ],
      "text/plain": [
       "   product_id                product_name  aisle_id  department_id  prices  \\\n",
       "0           1  Chocolate Sandwich Cookies        61             19     5.8   \n",
       "1           1  Chocolate Sandwich Cookies        61             19     5.8   \n",
       "2           1  Chocolate Sandwich Cookies        61             19     5.8   \n",
       "3           1  Chocolate Sandwich Cookies        61             19     5.8   \n",
       "4           1  Chocolate Sandwich Cookies        61             19     5.8   \n",
       "\n",
       "   order_id  user_id  order_number  orders_day_of_week  order_hour_of_day  \\\n",
       "0   3139998      138            28                   6                 11   \n",
       "1   1977647      138            30                   6                 17   \n",
       "2    389851      709             2                   0                 21   \n",
       "3    652770      764             1                   3                 13   \n",
       "4   1813452      764             3                   4                 17   \n",
       "\n",
       "   days_since_prior_order  add_to_cart_order  reordered _merge  \\\n",
       "0                     3.0                  5          0   both   \n",
       "1                    20.0                  1          1   both   \n",
       "2                     6.0                 20          0   both   \n",
       "3                     NaN                 10          0   both   \n",
       "4                     9.0                 11          1   both   \n",
       "\n",
       "     price_range_loc     busiest_day     busiest_days  \n",
       "0  Mid-range product  Regularly busy   Regularly busy  \n",
       "1  Mid-range product  Regularly busy   Regularly busy  \n",
       "2  Mid-range product     Busiest day     Busiest days  \n",
       "3  Mid-range product  Regularly busy  Least busy days  \n",
       "4  Mid-range product      Least busy  Least busy days  "
      ]
     },
     "execution_count": 58,
     "metadata": {},
     "output_type": "execute_result"
    }
   ],
   "source": [
    "#checking for accuracy\n",
    "ords_prods_merged.head()"
   ]
  },
  {
   "cell_type": "code",
   "execution_count": 59,
   "id": "94402790",
   "metadata": {},
   "outputs": [
    {
     "data": {
      "text/plain": [
       "Regularly busy     12916111\n",
       "Busiest days       11864412\n",
       "Least busy days     7624336\n",
       "Name: busiest_days, dtype: int64"
      ]
     },
     "execution_count": 59,
     "metadata": {},
     "output_type": "execute_result"
    }
   ],
   "source": [
    "#checking frequency\n",
    "ords_prods_merged['busiest_days'].value_counts(dropna=False)"
   ]
  },
  {
   "cell_type": "code",
   "execution_count": 63,
   "id": "8a087069",
   "metadata": {},
   "outputs": [],
   "source": [
    "ords_prods_merged['busiest_days'].value_counts(dropna=False).to_clipboard()"
   ]
  },
  {
   "cell_type": "markdown",
   "id": "b178dd94",
   "metadata": {},
   "source": [
    "#### The results are now aggregates of the original frequencies"
   ]
  },
  {
   "cell_type": "markdown",
   "id": "f85d4efa",
   "metadata": {},
   "source": [
    "## 4 Creating busiest periods column"
   ]
  },
  {
   "cell_type": "code",
   "execution_count": 64,
   "id": "39362341",
   "metadata": {},
   "outputs": [
    {
     "data": {
      "text/plain": [
       "10    2761760\n",
       "11    2736140\n",
       "14    2689136\n",
       "15    2662144\n",
       "13    2660954\n",
       "12    2618532\n",
       "16    2535202\n",
       "9     2454203\n",
       "17    2087654\n",
       "8     1718118\n",
       "18    1636502\n",
       "19    1258305\n",
       "20     976156\n",
       "7      891054\n",
       "21     795637\n",
       "22     634225\n",
       "23     402316\n",
       "6      290493\n",
       "0      218769\n",
       "1      115700\n",
       "5       87961\n",
       "2       69375\n",
       "4       53242\n",
       "3       51281\n",
       "Name: order_hour_of_day, dtype: int64"
      ]
     },
     "execution_count": 64,
     "metadata": {},
     "output_type": "execute_result"
    }
   ],
   "source": [
    "#looking at frequency\n",
    "ords_prods_merged['order_hour_of_day'].value_counts(dropna=False)"
   ]
  },
  {
   "cell_type": "markdown",
   "id": "fddda43b",
   "metadata": {},
   "source": [
    "#### The fewest orders are in the early morning from 0-6\n",
    "#### the most orders occur in the daytime from 9-16\n",
    "#### average orders occur in the evening/night from 7-8 and 17-23\n",
    "\n"
   ]
  },
  {
   "cell_type": "code",
   "execution_count": 65,
   "id": "0ef6d15a",
   "metadata": {},
   "outputs": [],
   "source": [
    "#creating lists for loop\n",
    "fewest_orders=[0,1,2,3,4,5,6]\n",
    "most_orders=[9,10,11,12,13,14,15,16]\n"
   ]
  },
  {
   "cell_type": "code",
   "execution_count": 66,
   "id": "8b37b3bb",
   "metadata": {},
   "outputs": [],
   "source": [
    "#writing loop function for busiest periods column\n",
    "result=[]\n",
    "for hour in ords_prods_merged['order_hour_of_day']:\n",
    "    if hour in fewest_orders:\n",
    "        result.append('Fewest orders')\n",
    "    elif hour in most_orders:\n",
    "        result.append('Most orders')\n",
    "    else:\n",
    "        result.append('Average orders')\n",
    "    \n"
   ]
  },
  {
   "cell_type": "code",
   "execution_count": 67,
   "id": "5cb742ca",
   "metadata": {},
   "outputs": [],
   "source": [
    "#adding column to table\n",
    "ords_prods_merged['busiest_periods']=result"
   ]
  },
  {
   "cell_type": "code",
   "execution_count": 68,
   "id": "5155a575",
   "metadata": {},
   "outputs": [
    {
     "data": {
      "text/html": [
       "<div>\n",
       "<style scoped>\n",
       "    .dataframe tbody tr th:only-of-type {\n",
       "        vertical-align: middle;\n",
       "    }\n",
       "\n",
       "    .dataframe tbody tr th {\n",
       "        vertical-align: top;\n",
       "    }\n",
       "\n",
       "    .dataframe thead th {\n",
       "        text-align: right;\n",
       "    }\n",
       "</style>\n",
       "<table border=\"1\" class=\"dataframe\">\n",
       "  <thead>\n",
       "    <tr style=\"text-align: right;\">\n",
       "      <th></th>\n",
       "      <th>product_id</th>\n",
       "      <th>product_name</th>\n",
       "      <th>aisle_id</th>\n",
       "      <th>department_id</th>\n",
       "      <th>prices</th>\n",
       "      <th>order_id</th>\n",
       "      <th>user_id</th>\n",
       "      <th>order_number</th>\n",
       "      <th>orders_day_of_week</th>\n",
       "      <th>order_hour_of_day</th>\n",
       "      <th>days_since_prior_order</th>\n",
       "      <th>add_to_cart_order</th>\n",
       "      <th>reordered</th>\n",
       "      <th>_merge</th>\n",
       "      <th>price_range_loc</th>\n",
       "      <th>busiest_day</th>\n",
       "      <th>busiest_days</th>\n",
       "      <th>busiest_periods</th>\n",
       "    </tr>\n",
       "  </thead>\n",
       "  <tbody>\n",
       "    <tr>\n",
       "      <th>0</th>\n",
       "      <td>1</td>\n",
       "      <td>Chocolate Sandwich Cookies</td>\n",
       "      <td>61</td>\n",
       "      <td>19</td>\n",
       "      <td>5.8</td>\n",
       "      <td>3139998</td>\n",
       "      <td>138</td>\n",
       "      <td>28</td>\n",
       "      <td>6</td>\n",
       "      <td>11</td>\n",
       "      <td>3.0</td>\n",
       "      <td>5</td>\n",
       "      <td>0</td>\n",
       "      <td>both</td>\n",
       "      <td>Mid-range product</td>\n",
       "      <td>Regularly busy</td>\n",
       "      <td>Regularly busy</td>\n",
       "      <td>Most orders</td>\n",
       "    </tr>\n",
       "    <tr>\n",
       "      <th>1</th>\n",
       "      <td>1</td>\n",
       "      <td>Chocolate Sandwich Cookies</td>\n",
       "      <td>61</td>\n",
       "      <td>19</td>\n",
       "      <td>5.8</td>\n",
       "      <td>1977647</td>\n",
       "      <td>138</td>\n",
       "      <td>30</td>\n",
       "      <td>6</td>\n",
       "      <td>17</td>\n",
       "      <td>20.0</td>\n",
       "      <td>1</td>\n",
       "      <td>1</td>\n",
       "      <td>both</td>\n",
       "      <td>Mid-range product</td>\n",
       "      <td>Regularly busy</td>\n",
       "      <td>Regularly busy</td>\n",
       "      <td>Average orders</td>\n",
       "    </tr>\n",
       "    <tr>\n",
       "      <th>2</th>\n",
       "      <td>1</td>\n",
       "      <td>Chocolate Sandwich Cookies</td>\n",
       "      <td>61</td>\n",
       "      <td>19</td>\n",
       "      <td>5.8</td>\n",
       "      <td>389851</td>\n",
       "      <td>709</td>\n",
       "      <td>2</td>\n",
       "      <td>0</td>\n",
       "      <td>21</td>\n",
       "      <td>6.0</td>\n",
       "      <td>20</td>\n",
       "      <td>0</td>\n",
       "      <td>both</td>\n",
       "      <td>Mid-range product</td>\n",
       "      <td>Busiest day</td>\n",
       "      <td>Busiest days</td>\n",
       "      <td>Average orders</td>\n",
       "    </tr>\n",
       "    <tr>\n",
       "      <th>3</th>\n",
       "      <td>1</td>\n",
       "      <td>Chocolate Sandwich Cookies</td>\n",
       "      <td>61</td>\n",
       "      <td>19</td>\n",
       "      <td>5.8</td>\n",
       "      <td>652770</td>\n",
       "      <td>764</td>\n",
       "      <td>1</td>\n",
       "      <td>3</td>\n",
       "      <td>13</td>\n",
       "      <td>NaN</td>\n",
       "      <td>10</td>\n",
       "      <td>0</td>\n",
       "      <td>both</td>\n",
       "      <td>Mid-range product</td>\n",
       "      <td>Regularly busy</td>\n",
       "      <td>Least busy days</td>\n",
       "      <td>Most orders</td>\n",
       "    </tr>\n",
       "    <tr>\n",
       "      <th>4</th>\n",
       "      <td>1</td>\n",
       "      <td>Chocolate Sandwich Cookies</td>\n",
       "      <td>61</td>\n",
       "      <td>19</td>\n",
       "      <td>5.8</td>\n",
       "      <td>1813452</td>\n",
       "      <td>764</td>\n",
       "      <td>3</td>\n",
       "      <td>4</td>\n",
       "      <td>17</td>\n",
       "      <td>9.0</td>\n",
       "      <td>11</td>\n",
       "      <td>1</td>\n",
       "      <td>both</td>\n",
       "      <td>Mid-range product</td>\n",
       "      <td>Least busy</td>\n",
       "      <td>Least busy days</td>\n",
       "      <td>Average orders</td>\n",
       "    </tr>\n",
       "  </tbody>\n",
       "</table>\n",
       "</div>"
      ],
      "text/plain": [
       "   product_id                product_name  aisle_id  department_id  prices  \\\n",
       "0           1  Chocolate Sandwich Cookies        61             19     5.8   \n",
       "1           1  Chocolate Sandwich Cookies        61             19     5.8   \n",
       "2           1  Chocolate Sandwich Cookies        61             19     5.8   \n",
       "3           1  Chocolate Sandwich Cookies        61             19     5.8   \n",
       "4           1  Chocolate Sandwich Cookies        61             19     5.8   \n",
       "\n",
       "   order_id  user_id  order_number  orders_day_of_week  order_hour_of_day  \\\n",
       "0   3139998      138            28                   6                 11   \n",
       "1   1977647      138            30                   6                 17   \n",
       "2    389851      709             2                   0                 21   \n",
       "3    652770      764             1                   3                 13   \n",
       "4   1813452      764             3                   4                 17   \n",
       "\n",
       "   days_since_prior_order  add_to_cart_order  reordered _merge  \\\n",
       "0                     3.0                  5          0   both   \n",
       "1                    20.0                  1          1   both   \n",
       "2                     6.0                 20          0   both   \n",
       "3                     NaN                 10          0   both   \n",
       "4                     9.0                 11          1   both   \n",
       "\n",
       "     price_range_loc     busiest_day     busiest_days busiest_periods  \n",
       "0  Mid-range product  Regularly busy   Regularly busy     Most orders  \n",
       "1  Mid-range product  Regularly busy   Regularly busy  Average orders  \n",
       "2  Mid-range product     Busiest day     Busiest days  Average orders  \n",
       "3  Mid-range product  Regularly busy  Least busy days     Most orders  \n",
       "4  Mid-range product      Least busy  Least busy days  Average orders  "
      ]
     },
     "execution_count": 68,
     "metadata": {},
     "output_type": "execute_result"
    }
   ],
   "source": [
    "ords_prods_merged.head()"
   ]
  },
  {
   "cell_type": "code",
   "execution_count": 69,
   "id": "8b318067",
   "metadata": {},
   "outputs": [
    {
     "data": {
      "text/plain": [
       "Most orders       21118071\n",
       "Average orders    10399967\n",
       "Fewest orders       886821\n",
       "Name: busiest_periods, dtype: int64"
      ]
     },
     "execution_count": 69,
     "metadata": {},
     "output_type": "execute_result"
    }
   ],
   "source": [
    "#printing frequency\n",
    "ords_prods_merged['busiest_periods'].value_counts(dropna=False)"
   ]
  },
  {
   "cell_type": "code",
   "execution_count": 72,
   "id": "a532b7ea",
   "metadata": {},
   "outputs": [],
   "source": [
    "ords_prods_merged['busiest_periods'].value_counts(dropna=False).to_clipboard()"
   ]
  },
  {
   "cell_type": "markdown",
   "id": "cdcc79a5",
   "metadata": {},
   "source": [
    "## 5 Exporting dataframe"
   ]
  },
  {
   "cell_type": "code",
   "execution_count": 73,
   "id": "f1c6d9a8",
   "metadata": {},
   "outputs": [],
   "source": [
    "#Exporting dataframe as pickle\n",
    "ords_prods_merged.to_pickle(os.path.join(path, '02 Data','Prepared', 'orders_products_merged_newcols.pkl'))"
   ]
  }
 ],
 "metadata": {
  "kernelspec": {
   "display_name": "Python 3 (ipykernel)",
   "language": "python",
   "name": "python3"
  },
  "language_info": {
   "codemirror_mode": {
    "name": "ipython",
    "version": 3
   },
   "file_extension": ".py",
   "mimetype": "text/x-python",
   "name": "python",
   "nbconvert_exporter": "python",
   "pygments_lexer": "ipython3",
   "version": "3.9.12"
  }
 },
 "nbformat": 4,
 "nbformat_minor": 5
}
