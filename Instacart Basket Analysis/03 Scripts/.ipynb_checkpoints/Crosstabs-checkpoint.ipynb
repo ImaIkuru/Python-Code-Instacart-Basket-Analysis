{
 "cells": [
  {
   "cell_type": "code",
   "execution_count": 1,
   "id": "82b53f05",
   "metadata": {},
   "outputs": [],
   "source": [
    "#Crosstabs are a common tool for conducting data checks in Python. \n",
    "#Think of them as Python’s version of Excel’s pivot tables. "
   ]
  },
  {
   "cell_type": "code",
   "execution_count": 2,
   "id": "981ee74f",
   "metadata": {},
   "outputs": [],
   "source": [
    "#import libraries\n",
    "import pandas as pd\n",
    "import numpy as np\n",
    "import os"
   ]
  },
  {
   "cell_type": "code",
   "execution_count": 3,
   "id": "a443e703",
   "metadata": {},
   "outputs": [],
   "source": [
    "#importing data set\n",
    "path=r'/Users/Amaikuru/Desktop/08-06-2022 Instacart Basket Analysis.nosync'"
   ]
  },
  {
   "cell_type": "code",
   "execution_count": 6,
   "id": "7d9a5e7e",
   "metadata": {},
   "outputs": [],
   "source": [
    "#importing orders data frame\n",
    "df = pd.read_pickle(os.path.join(path, '02 Data', 'Prepared', 'final_merge_clean.pkl'))"
   ]
  },
  {
   "cell_type": "code",
   "execution_count": 7,
   "id": "1e71250a",
   "metadata": {},
   "outputs": [],
   "source": [
    "#creating crosstab\n",
    "crosstab = pd.crosstab(df['days_since_prior_order'], df['order_amount'], dropna = False)"
   ]
  },
  {
   "cell_type": "code",
   "execution_count": 8,
   "id": "59d9ffb6",
   "metadata": {},
   "outputs": [],
   "source": [
    "#copying table to clipboard\n",
    "crosstab.to_clipboard()"
   ]
  },
  {
   "cell_type": "code",
   "execution_count": 9,
   "id": "9db0aaf9",
   "metadata": {},
   "outputs": [],
   "source": [
    "#Checks like this belong in a final report. \n",
    "#Stakeholders and clients respond much better to visual examples, so whenever you investigate uncertainties\n",
    "#in your data, be sure to create some sort of visual component, whether it be a screenshot of a table or a chart\n",
    "#that you’ve created, in your report."
   ]
  },
  {
   "cell_type": "code",
   "execution_count": null,
   "id": "5d09d4f7",
   "metadata": {},
   "outputs": [],
   "source": []
  }
 ],
 "metadata": {
  "kernelspec": {
   "display_name": "Python 3 (ipykernel)",
   "language": "python",
   "name": "python3"
  },
  "language_info": {
   "codemirror_mode": {
    "name": "ipython",
    "version": 3
   },
   "file_extension": ".py",
   "mimetype": "text/x-python",
   "name": "python",
   "nbconvert_exporter": "python",
   "pygments_lexer": "ipython3",
   "version": "3.9.12"
  }
 },
 "nbformat": 4,
 "nbformat_minor": 5
}
