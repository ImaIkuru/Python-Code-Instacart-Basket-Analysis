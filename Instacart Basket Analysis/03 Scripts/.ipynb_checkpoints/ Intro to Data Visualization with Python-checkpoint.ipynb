{
 "cells": [
  {
   "cell_type": "code",
   "execution_count": 1,
   "id": "d884c34e",
   "metadata": {},
   "outputs": [],
   "source": [
    "#importing libraries\n",
    "import pandas as pd\n",
    "import numpy as np\n",
    "import os\n",
    "import matplotlib.pyplot as plt\n",
    "import seaborn as sns\n",
    "import scipy\n"
   ]
  },
  {
   "cell_type": "code",
   "execution_count": 2,
   "id": "ac2e6f2a",
   "metadata": {},
   "outputs": [],
   "source": [
    "#importing dataframe\n",
    "path=r'/Users/Amaikuru/Desktop/08-06-2022 Instacart Basket Analysis.nosync'"
   ]
  },
  {
   "cell_type": "code",
   "execution_count": 3,
   "id": "af107a6e",
   "metadata": {},
   "outputs": [],
   "source": [
    "df=pd.read_pickle(os.path.join(path, '02 Data', 'Prepared', 'orders_products_merged_grouped.pkl'))"
   ]
  },
  {
   "cell_type": "markdown",
   "id": "bf65ae38",
   "metadata": {},
   "source": [
    "## Creating bar charts"
   ]
  },
  {
   "cell_type": "code",
   "execution_count": 5,
   "id": "04e34fcd",
   "metadata": {},
   "outputs": [
    {
     "data": {
      "text/plain": [
       "<AxesSubplot:>"
      ]
     },
     "execution_count": 5,
     "metadata": {},
     "output_type": "execute_result"
    },
    {
     "data": {
      "image/png": "[encoded data removed]",
      "text/plain": [
       "<Figure size 432x288 with 1 Axes>"
      ]
     },
     "metadata": {
      "needs_background": "light"
     },
     "output_type": "display_data"
    }
   ],
   "source": [
    "#bar chart for days of the week, plotting frequency\n",
    "df['orders_day_of_week'].value_counts().plot.bar()"
   ]
  },
  {
   "cell_type": "code",
   "execution_count": 6,
   "id": "ca0e6b5d",
   "metadata": {},
   "outputs": [
    {
     "data": {
      "text/plain": [
       "<AxesSubplot:>"
      ]
     },
     "execution_count": 6,
     "metadata": {},
     "output_type": "execute_result"
    },
    {
     "data": {
      "image/png": "[encoded data removed]",
      "text/plain": [
       "<Figure size 432x288 with 1 Axes>"
      ]
     },
     "metadata": {
      "needs_background": "light"
     },
     "output_type": "display_data"
    }
   ],
   "source": [
    "#sorting according to index\n",
    "df['orders_day_of_week'].value_counts().sort_index().plot.bar()"
   ]
  },
  {
   "cell_type": "code",
   "execution_count": 7,
   "id": "d85a1623",
   "metadata": {},
   "outputs": [
    {
     "data": {
      "text/plain": [
       "<AxesSubplot:>"
      ]
     },
     "execution_count": 7,
     "metadata": {},
     "output_type": "execute_result"
    },
    {
     "data": {
      "image/png": "[encoded data removed]",
      "text/plain": [
       "<Figure size 432x288 with 1 Axes>"
      ]
     },
     "metadata": {
      "needs_background": "light"
     },
     "output_type": "display_data"
    }
   ],
   "source": [
    "#adding color to the bar chart\n",
    "df['orders_day_of_week'].value_counts().plot.bar(color='red')"
   ]
  },
  {
   "cell_type": "markdown",
   "id": "546508ee",
   "metadata": {},
   "source": [
    "## Exporting charts"
   ]
  },
  {
   "cell_type": "code",
   "execution_count": 9,
   "id": "d6764d8b",
   "metadata": {},
   "outputs": [
    {
     "data": {
      "image/png": "[encoded data removed]",
      "text/plain": [
       "<Figure size 432x288 with 1 Axes>"
      ]
     },
     "metadata": {
      "needs_background": "light"
     },
     "output_type": "display_data"
    }
   ],
   "source": [
    "#saving chart in the bar object, chart can now be summoned using bar.figure\n",
    "bar = df['orders_day_of_week'].value_counts().plot.bar(color =['purple', 'red', 'pink', 'orange', 'yellow', 'green', 'blue'])\n"
   ]
  },
  {
   "cell_type": "code",
   "execution_count": 11,
   "id": "af1037df",
   "metadata": {},
   "outputs": [],
   "source": [
    "#saving with the figure.savefig() function, saved as png\n",
    "bar.figure.savefig(os.path.join(path, '04 Analysis','Visualizations', 'bar_orders_dow.png'))"
   ]
  },
  {
   "cell_type": "markdown",
   "id": "b7e10f64",
   "metadata": {},
   "source": [
    "## Creating Histograms and scatterplots"
   ]
  },
  {
   "cell_type": "code",
   "execution_count": 13,
   "id": "0bfd5267",
   "metadata": {},
   "outputs": [
    {
     "data": {
      "text/plain": [
       "<AxesSubplot:ylabel='Frequency'>"
      ]
     },
     "execution_count": 13,
     "metadata": {},
     "output_type": "execute_result"
    },
    {
     "data": {
      "image/png": "[encoded data removed]",
      "text/plain": [
       "<Figure size 432x288 with 1 Axes>"
      ]
     },
     "metadata": {
      "needs_background": "light"
     },
     "output_type": "display_data"
    }
   ],
   "source": [
    "#creating histogram of the prices column and bin size of 25\n",
    "df['prices'].plot.hist(bins = 25)"
   ]
  },
  {
   "cell_type": "markdown",
   "id": "ee13a4c7",
   "metadata": {},
   "source": [
    "#### The chart is off becuase of the 99999 anomaly"
   ]
  },
  {
   "cell_type": "code",
   "execution_count": 14,
   "id": "93c7c989",
   "metadata": {},
   "outputs": [
    {
     "data": {
      "text/plain": [
       "<AxesSubplot:xlabel='prices', ylabel='prices'>"
      ]
     },
     "execution_count": 14,
     "metadata": {},
     "output_type": "execute_result"
    },
    {
     "data": {
      "image/png": "[encoded data removed]",
      "text/plain": [
       "<Figure size 432x288 with 1 Axes>"
      ]
     },
     "metadata": {
      "needs_background": "light"
     },
     "output_type": "display_data"
    }
   ],
   "source": [
    "#creating scatterplot for the prices column, x-axis and y-axis are price\n",
    "sns.scatterplot(x = 'prices', y = 'prices',data = df)"
   ]
  },
  {
   "cell_type": "code",
   "execution_count": 15,
   "id": "e76b671d",
   "metadata": {},
   "outputs": [
    {
     "data": {
      "text/html": [
       "<div>\n",
       "<style scoped>\n",
       "    .dataframe tbody tr th:only-of-type {\n",
       "        vertical-align: middle;\n",
       "    }\n",
       "\n",
       "    .dataframe tbody tr th {\n",
       "        vertical-align: top;\n",
       "    }\n",
       "\n",
       "    .dataframe thead th {\n",
       "        text-align: right;\n",
       "    }\n",
       "</style>\n",
       "<table border=\"1\" class=\"dataframe\">\n",
       "  <thead>\n",
       "    <tr style=\"text-align: right;\">\n",
       "      <th></th>\n",
       "      <th>product_id</th>\n",
       "      <th>product_name</th>\n",
       "      <th>aisle_id</th>\n",
       "      <th>department_id</th>\n",
       "      <th>prices</th>\n",
       "      <th>order_id</th>\n",
       "      <th>user_id</th>\n",
       "      <th>order_amount</th>\n",
       "      <th>orders_day_of_week</th>\n",
       "      <th>order_hour_of_day</th>\n",
       "      <th>...</th>\n",
       "      <th>busiest_day</th>\n",
       "      <th>busiest_days</th>\n",
       "      <th>price_range_loc</th>\n",
       "      <th>busiest_periods</th>\n",
       "      <th>max_order</th>\n",
       "      <th>loyalty_flag</th>\n",
       "      <th>mean_price</th>\n",
       "      <th>spending_flag</th>\n",
       "      <th>median_prior_days</th>\n",
       "      <th>order_frequency</th>\n",
       "    </tr>\n",
       "  </thead>\n",
       "  <tbody>\n",
       "    <tr>\n",
       "      <th>12262329</th>\n",
       "      <td>21553</td>\n",
       "      <td>Lowfat 2% Milkfat Cottage Cheese</td>\n",
       "      <td>108</td>\n",
       "      <td>16</td>\n",
       "      <td>14900.0</td>\n",
       "      <td>912404</td>\n",
       "      <td>17</td>\n",
       "      <td>12</td>\n",
       "      <td>2</td>\n",
       "      <td>14</td>\n",
       "      <td>...</td>\n",
       "      <td>Regularly busy</td>\n",
       "      <td>Regularly busy</td>\n",
       "      <td>High-range product</td>\n",
       "      <td>Most orders</td>\n",
       "      <td>40</td>\n",
       "      <td>Regular customer</td>\n",
       "      <td>109.670103</td>\n",
       "      <td>High Spender</td>\n",
       "      <td>5.0</td>\n",
       "      <td>Frequent customer</td>\n",
       "    </tr>\n",
       "    <tr>\n",
       "      <th>12262330</th>\n",
       "      <td>21553</td>\n",
       "      <td>Lowfat 2% Milkfat Cottage Cheese</td>\n",
       "      <td>108</td>\n",
       "      <td>16</td>\n",
       "      <td>14900.0</td>\n",
       "      <td>603376</td>\n",
       "      <td>17</td>\n",
       "      <td>22</td>\n",
       "      <td>6</td>\n",
       "      <td>16</td>\n",
       "      <td>...</td>\n",
       "      <td>Regularly busy</td>\n",
       "      <td>Regularly busy</td>\n",
       "      <td>High-range product</td>\n",
       "      <td>Most orders</td>\n",
       "      <td>40</td>\n",
       "      <td>Regular customer</td>\n",
       "      <td>109.670103</td>\n",
       "      <td>High Spender</td>\n",
       "      <td>5.0</td>\n",
       "      <td>Frequent customer</td>\n",
       "    </tr>\n",
       "    <tr>\n",
       "      <th>12262331</th>\n",
       "      <td>21553</td>\n",
       "      <td>Lowfat 2% Milkfat Cottage Cheese</td>\n",
       "      <td>108</td>\n",
       "      <td>16</td>\n",
       "      <td>14900.0</td>\n",
       "      <td>3264360</td>\n",
       "      <td>135</td>\n",
       "      <td>2</td>\n",
       "      <td>2</td>\n",
       "      <td>21</td>\n",
       "      <td>...</td>\n",
       "      <td>Regularly busy</td>\n",
       "      <td>Regularly busy</td>\n",
       "      <td>High-range product</td>\n",
       "      <td>Average orders</td>\n",
       "      <td>4</td>\n",
       "      <td>New customer</td>\n",
       "      <td>1250.245833</td>\n",
       "      <td>High Spender</td>\n",
       "      <td>12.0</td>\n",
       "      <td>Regular customer</td>\n",
       "    </tr>\n",
       "    <tr>\n",
       "      <th>12262332</th>\n",
       "      <td>21553</td>\n",
       "      <td>Lowfat 2% Milkfat Cottage Cheese</td>\n",
       "      <td>108</td>\n",
       "      <td>16</td>\n",
       "      <td>14900.0</td>\n",
       "      <td>892534</td>\n",
       "      <td>135</td>\n",
       "      <td>3</td>\n",
       "      <td>0</td>\n",
       "      <td>8</td>\n",
       "      <td>...</td>\n",
       "      <td>Busiest day</td>\n",
       "      <td>Busiest days</td>\n",
       "      <td>High-range product</td>\n",
       "      <td>Average orders</td>\n",
       "      <td>4</td>\n",
       "      <td>New customer</td>\n",
       "      <td>1250.245833</td>\n",
       "      <td>High Spender</td>\n",
       "      <td>12.0</td>\n",
       "      <td>Regular customer</td>\n",
       "    </tr>\n",
       "    <tr>\n",
       "      <th>12262333</th>\n",
       "      <td>21553</td>\n",
       "      <td>Lowfat 2% Milkfat Cottage Cheese</td>\n",
       "      <td>108</td>\n",
       "      <td>16</td>\n",
       "      <td>14900.0</td>\n",
       "      <td>229704</td>\n",
       "      <td>342</td>\n",
       "      <td>8</td>\n",
       "      <td>1</td>\n",
       "      <td>19</td>\n",
       "      <td>...</td>\n",
       "      <td>Regularly busy</td>\n",
       "      <td>Busiest days</td>\n",
       "      <td>High-range product</td>\n",
       "      <td>Average orders</td>\n",
       "      <td>16</td>\n",
       "      <td>Regular customer</td>\n",
       "      <td>120.090909</td>\n",
       "      <td>High Spender</td>\n",
       "      <td>23.0</td>\n",
       "      <td>Non-frequent customer</td>\n",
       "    </tr>\n",
       "    <tr>\n",
       "      <th>...</th>\n",
       "      <td>...</td>\n",
       "      <td>...</td>\n",
       "      <td>...</td>\n",
       "      <td>...</td>\n",
       "      <td>...</td>\n",
       "      <td>...</td>\n",
       "      <td>...</td>\n",
       "      <td>...</td>\n",
       "      <td>...</td>\n",
       "      <td>...</td>\n",
       "      <td>...</td>\n",
       "      <td>...</td>\n",
       "      <td>...</td>\n",
       "      <td>...</td>\n",
       "      <td>...</td>\n",
       "      <td>...</td>\n",
       "      <td>...</td>\n",
       "      <td>...</td>\n",
       "      <td>...</td>\n",
       "      <td>...</td>\n",
       "      <td>...</td>\n",
       "    </tr>\n",
       "    <tr>\n",
       "      <th>20392828</th>\n",
       "      <td>33664</td>\n",
       "      <td>2 % Reduced Fat  Milk</td>\n",
       "      <td>84</td>\n",
       "      <td>16</td>\n",
       "      <td>99999.0</td>\n",
       "      <td>2249946</td>\n",
       "      <td>204099</td>\n",
       "      <td>29</td>\n",
       "      <td>0</td>\n",
       "      <td>8</td>\n",
       "      <td>...</td>\n",
       "      <td>Busiest day</td>\n",
       "      <td>Busiest days</td>\n",
       "      <td>High-range product</td>\n",
       "      <td>Average orders</td>\n",
       "      <td>39</td>\n",
       "      <td>Regular customer</td>\n",
       "      <td>1137.802260</td>\n",
       "      <td>High Spender</td>\n",
       "      <td>4.0</td>\n",
       "      <td>Frequent customer</td>\n",
       "    </tr>\n",
       "    <tr>\n",
       "      <th>20392829</th>\n",
       "      <td>33664</td>\n",
       "      <td>2 % Reduced Fat  Milk</td>\n",
       "      <td>84</td>\n",
       "      <td>16</td>\n",
       "      <td>99999.0</td>\n",
       "      <td>2363282</td>\n",
       "      <td>204099</td>\n",
       "      <td>31</td>\n",
       "      <td>0</td>\n",
       "      <td>9</td>\n",
       "      <td>...</td>\n",
       "      <td>Busiest day</td>\n",
       "      <td>Busiest days</td>\n",
       "      <td>High-range product</td>\n",
       "      <td>Most orders</td>\n",
       "      <td>39</td>\n",
       "      <td>Regular customer</td>\n",
       "      <td>1137.802260</td>\n",
       "      <td>High Spender</td>\n",
       "      <td>4.0</td>\n",
       "      <td>Frequent customer</td>\n",
       "    </tr>\n",
       "    <tr>\n",
       "      <th>20392830</th>\n",
       "      <td>33664</td>\n",
       "      <td>2 % Reduced Fat  Milk</td>\n",
       "      <td>84</td>\n",
       "      <td>16</td>\n",
       "      <td>99999.0</td>\n",
       "      <td>3181945</td>\n",
       "      <td>204395</td>\n",
       "      <td>13</td>\n",
       "      <td>3</td>\n",
       "      <td>15</td>\n",
       "      <td>...</td>\n",
       "      <td>Regularly busy</td>\n",
       "      <td>Least busy days</td>\n",
       "      <td>High-range product</td>\n",
       "      <td>Most orders</td>\n",
       "      <td>15</td>\n",
       "      <td>Regular customer</td>\n",
       "      <td>487.075120</td>\n",
       "      <td>High Spender</td>\n",
       "      <td>5.0</td>\n",
       "      <td>Frequent customer</td>\n",
       "    </tr>\n",
       "    <tr>\n",
       "      <th>20392831</th>\n",
       "      <td>33664</td>\n",
       "      <td>2 % Reduced Fat  Milk</td>\n",
       "      <td>84</td>\n",
       "      <td>16</td>\n",
       "      <td>99999.0</td>\n",
       "      <td>2486215</td>\n",
       "      <td>205227</td>\n",
       "      <td>7</td>\n",
       "      <td>3</td>\n",
       "      <td>20</td>\n",
       "      <td>...</td>\n",
       "      <td>Regularly busy</td>\n",
       "      <td>Least busy days</td>\n",
       "      <td>High-range product</td>\n",
       "      <td>Average orders</td>\n",
       "      <td>12</td>\n",
       "      <td>Regular customer</td>\n",
       "      <td>1235.679755</td>\n",
       "      <td>High Spender</td>\n",
       "      <td>12.0</td>\n",
       "      <td>Regular customer</td>\n",
       "    </tr>\n",
       "    <tr>\n",
       "      <th>20392832</th>\n",
       "      <td>33664</td>\n",
       "      <td>2 % Reduced Fat  Milk</td>\n",
       "      <td>84</td>\n",
       "      <td>16</td>\n",
       "      <td>99999.0</td>\n",
       "      <td>2232716</td>\n",
       "      <td>205227</td>\n",
       "      <td>10</td>\n",
       "      <td>0</td>\n",
       "      <td>11</td>\n",
       "      <td>...</td>\n",
       "      <td>Busiest day</td>\n",
       "      <td>Busiest days</td>\n",
       "      <td>High-range product</td>\n",
       "      <td>Most orders</td>\n",
       "      <td>12</td>\n",
       "      <td>Regular customer</td>\n",
       "      <td>1235.679755</td>\n",
       "      <td>High Spender</td>\n",
       "      <td>12.0</td>\n",
       "      <td>Regular customer</td>\n",
       "    </tr>\n",
       "  </tbody>\n",
       "</table>\n",
       "<p>4776 rows × 24 columns</p>\n",
       "</div>"
      ],
      "text/plain": [
       "          product_id                      product_name  aisle_id  \\\n",
       "12262329       21553  Lowfat 2% Milkfat Cottage Cheese       108   \n",
       "12262330       21553  Lowfat 2% Milkfat Cottage Cheese       108   \n",
       "12262331       21553  Lowfat 2% Milkfat Cottage Cheese       108   \n",
       "12262332       21553  Lowfat 2% Milkfat Cottage Cheese       108   \n",
       "12262333       21553  Lowfat 2% Milkfat Cottage Cheese       108   \n",
       "...              ...                               ...       ...   \n",
       "20392828       33664             2 % Reduced Fat  Milk        84   \n",
       "20392829       33664             2 % Reduced Fat  Milk        84   \n",
       "20392830       33664             2 % Reduced Fat  Milk        84   \n",
       "20392831       33664             2 % Reduced Fat  Milk        84   \n",
       "20392832       33664             2 % Reduced Fat  Milk        84   \n",
       "\n",
       "          department_id   prices  order_id  user_id  order_amount  \\\n",
       "12262329             16  14900.0    912404       17            12   \n",
       "12262330             16  14900.0    603376       17            22   \n",
       "12262331             16  14900.0   3264360      135             2   \n",
       "12262332             16  14900.0    892534      135             3   \n",
       "12262333             16  14900.0    229704      342             8   \n",
       "...                 ...      ...       ...      ...           ...   \n",
       "20392828             16  99999.0   2249946   204099            29   \n",
       "20392829             16  99999.0   2363282   204099            31   \n",
       "20392830             16  99999.0   3181945   204395            13   \n",
       "20392831             16  99999.0   2486215   205227             7   \n",
       "20392832             16  99999.0   2232716   205227            10   \n",
       "\n",
       "          orders_day_of_week  order_hour_of_day  ...     busiest_day  \\\n",
       "12262329                   2                 14  ...  Regularly busy   \n",
       "12262330                   6                 16  ...  Regularly busy   \n",
       "12262331                   2                 21  ...  Regularly busy   \n",
       "12262332                   0                  8  ...     Busiest day   \n",
       "12262333                   1                 19  ...  Regularly busy   \n",
       "...                      ...                ...  ...             ...   \n",
       "20392828                   0                  8  ...     Busiest day   \n",
       "20392829                   0                  9  ...     Busiest day   \n",
       "20392830                   3                 15  ...  Regularly busy   \n",
       "20392831                   3                 20  ...  Regularly busy   \n",
       "20392832                   0                 11  ...     Busiest day   \n",
       "\n",
       "             busiest_days     price_range_loc busiest_periods max_order  \\\n",
       "12262329   Regularly busy  High-range product     Most orders        40   \n",
       "12262330   Regularly busy  High-range product     Most orders        40   \n",
       "12262331   Regularly busy  High-range product  Average orders         4   \n",
       "12262332     Busiest days  High-range product  Average orders         4   \n",
       "12262333     Busiest days  High-range product  Average orders        16   \n",
       "...                   ...                 ...             ...       ...   \n",
       "20392828     Busiest days  High-range product  Average orders        39   \n",
       "20392829     Busiest days  High-range product     Most orders        39   \n",
       "20392830  Least busy days  High-range product     Most orders        15   \n",
       "20392831  Least busy days  High-range product  Average orders        12   \n",
       "20392832     Busiest days  High-range product     Most orders        12   \n",
       "\n",
       "              loyalty_flag   mean_price spending_flag  median_prior_days  \\\n",
       "12262329  Regular customer   109.670103  High Spender                5.0   \n",
       "12262330  Regular customer   109.670103  High Spender                5.0   \n",
       "12262331      New customer  1250.245833  High Spender               12.0   \n",
       "12262332      New customer  1250.245833  High Spender               12.0   \n",
       "12262333  Regular customer   120.090909  High Spender               23.0   \n",
       "...                    ...          ...           ...                ...   \n",
       "20392828  Regular customer  1137.802260  High Spender                4.0   \n",
       "20392829  Regular customer  1137.802260  High Spender                4.0   \n",
       "20392830  Regular customer   487.075120  High Spender                5.0   \n",
       "20392831  Regular customer  1235.679755  High Spender               12.0   \n",
       "20392832  Regular customer  1235.679755  High Spender               12.0   \n",
       "\n",
       "                order_frequency  \n",
       "12262329      Frequent customer  \n",
       "12262330      Frequent customer  \n",
       "12262331       Regular customer  \n",
       "12262332       Regular customer  \n",
       "12262333  Non-frequent customer  \n",
       "...                         ...  \n",
       "20392828      Frequent customer  \n",
       "20392829      Frequent customer  \n",
       "20392830      Frequent customer  \n",
       "20392831       Regular customer  \n",
       "20392832       Regular customer  \n",
       "\n",
       "[4776 rows x 24 columns]"
      ]
     },
     "execution_count": 15,
     "metadata": {},
     "output_type": "execute_result"
    }
   ],
   "source": [
    "#looking for prices over $100\n",
    "df.loc[df['prices'] > 100]"
   ]
  },
  {
   "cell_type": "markdown",
   "id": "5669721d",
   "metadata": {},
   "source": [
    "#### These prices are not correct"
   ]
  },
  {
   "cell_type": "code",
   "execution_count": 16,
   "id": "d1cb5f29",
   "metadata": {},
   "outputs": [],
   "source": [
    "#turning them into nans\n",
    "df.loc[df['prices'] >100, 'prices'] = np.nan"
   ]
  },
  {
   "cell_type": "code",
   "execution_count": 17,
   "id": "5c5047ed",
   "metadata": {},
   "outputs": [
    {
     "data": {
      "text/plain": [
       "25.0"
      ]
     },
     "execution_count": 17,
     "metadata": {},
     "output_type": "execute_result"
    }
   ],
   "source": [
    "df['prices'].max()"
   ]
  },
  {
   "cell_type": "code",
   "execution_count": 18,
   "id": "6598a470",
   "metadata": {},
   "outputs": [
    {
     "data": {
      "text/plain": [
       "<AxesSubplot:ylabel='Frequency'>"
      ]
     },
     "execution_count": 18,
     "metadata": {},
     "output_type": "execute_result"
    },
    {
     "data": {
      "image/png": "[encoded data removed]",
      "text/plain": [
       "<Figure size 432x288 with 1 Axes>"
      ]
     },
     "metadata": {
      "needs_background": "light"
     },
     "output_type": "display_data"
    }
   ],
   "source": [
    "#retrying histogram\n",
    "df['prices'].plot.hist(bins = 25)"
   ]
  },
  {
   "cell_type": "code",
   "execution_count": 20,
   "id": "a3f0f079",
   "metadata": {},
   "outputs": [
    {
     "data": {
      "image/png": "[encoded data removed]",
      "text/plain": [
       "<Figure size 432x288 with 1 Axes>"
      ]
     },
     "metadata": {
      "needs_background": "light"
     },
     "output_type": "display_data"
    }
   ],
   "source": [
    "#increasing bin size\n",
    "hist=df['prices'].plot.hist(bins = 70)"
   ]
  },
  {
   "cell_type": "code",
   "execution_count": 21,
   "id": "969ceccf",
   "metadata": {},
   "outputs": [],
   "source": [
    "#exporting histogram\n",
    "hist.figure.savefig(os.path.join(path, '04 Analysis','Visualizations', 'hist_orders_dow.png'))"
   ]
  },
  {
   "cell_type": "markdown",
   "id": "5f36c096",
   "metadata": {},
   "source": [
    "## Creating line chart with sampling"
   ]
  },
  {
   "cell_type": "markdown",
   "id": "86049ca7",
   "metadata": {},
   "source": [
    "#### we need to create a subset that is representative of the dataframe, we do this by creating random samples\n",
    "#### you can use a 80/20 split or a 70/30 split where the 30% sample resembles the 70% sample but with less rows"
   ]
  },
  {
   "cell_type": "code",
   "execution_count": 26,
   "id": "3031a532",
   "metadata": {},
   "outputs": [],
   "source": [
    "#creating random samples with 70/30 split\n",
    "#the seed represents a random but reproducable pattern, the number inside doesn't really matter\n",
    "#dev stores boolean values for if value in array is less than or greater than 0.7\n",
    "#random created random numbers and rand ensures uniform distribution is followed\n",
    "np.random.seed(4)\n",
    "dev = np.random.rand(len(df)) <= 0.7\n"
   ]
  },
  {
   "cell_type": "code",
   "execution_count": 27,
   "id": "226cd344",
   "metadata": {},
   "outputs": [],
   "source": [
    "#recap\n",
    "#Set the seed for the random number generator.\n",
    "#Create 32,404,859 random numbers (the length of your ords_prods_merge dataframe) ranging between 0 and 1.\n",
    "#Code a logical test comparing each of those numbers to a value of 0.7 (either less than or greater than 0.7).\n",
    "#Store the results of the test in a new list, dev, in the form of boolean values (True and False)."
   ]
  },
  {
   "cell_type": "code",
   "execution_count": 30,
   "id": "2926ce6a",
   "metadata": {},
   "outputs": [],
   "source": [
    "#using list to split into two\n",
    "#storing 70%\n",
    "big = df[dev]"
   ]
  },
  {
   "cell_type": "code",
   "execution_count": 31,
   "id": "25c1857a",
   "metadata": {},
   "outputs": [],
   "source": [
    "#storing 30%\n",
    "#the squiggle represents false\n",
    "small = df[~dev]"
   ]
  },
  {
   "cell_type": "code",
   "execution_count": 34,
   "id": "19042b59",
   "metadata": {},
   "outputs": [
    {
     "data": {
      "text/plain": [
       "30328763"
      ]
     },
     "execution_count": 34,
     "metadata": {},
     "output_type": "execute_result"
    }
   ],
   "source": [
    "#accuracy check\n",
    "len(df)"
   ]
  },
  {
   "cell_type": "code",
   "execution_count": 35,
   "id": "1f28805b",
   "metadata": {},
   "outputs": [
    {
     "data": {
      "text/plain": [
       "30328763"
      ]
     },
     "execution_count": 35,
     "metadata": {},
     "output_type": "execute_result"
    }
   ],
   "source": [
    "len(big)+len(small)"
   ]
  },
  {
   "cell_type": "code",
   "execution_count": 36,
   "id": "b1fc5e66",
   "metadata": {},
   "outputs": [],
   "source": [
    "#reducing dataframe into only necessary columns for faster processing\n",
    "df_2 = small[['orders_day_of_week','prices']]"
   ]
  },
  {
   "cell_type": "markdown",
   "id": "0d4c0698",
   "metadata": {},
   "source": [
    "### Creating line chart"
   ]
  },
  {
   "cell_type": "code",
   "execution_count": 37,
   "id": "679c851c",
   "metadata": {},
   "outputs": [
    {
     "data": {
      "image/png": "[encoded data removed]",
      "text/plain": [
       "<Figure size 432x288 with 1 Axes>"
      ]
     },
     "metadata": {
      "needs_background": "light"
     },
     "output_type": "display_data"
    }
   ],
   "source": [
    "line = sns.lineplot(data = df_2, x = 'orders_day_of_week',y = 'prices')"
   ]
  },
  {
   "cell_type": "code",
   "execution_count": null,
   "id": "af16745b",
   "metadata": {},
   "outputs": [],
   "source": []
  }
 ],
 "metadata": {
  "kernelspec": {
   "display_name": "Python 3 (ipykernel)",
   "language": "python",
   "name": "python3"
  },
  "language_info": {
   "codemirror_mode": {
    "name": "ipython",
    "version": 3
   },
   "file_extension": ".py",
   "mimetype": "text/x-python",
   "name": "python",
   "nbconvert_exporter": "python",
   "pygments_lexer": "ipython3",
   "version": "3.9.12"
  }
 },
 "nbformat": 4,
 "nbformat_minor": 5
}
