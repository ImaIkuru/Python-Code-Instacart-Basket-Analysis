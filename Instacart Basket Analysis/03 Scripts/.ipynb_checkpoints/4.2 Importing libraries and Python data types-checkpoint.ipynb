{
 "cells": [
  {
   "cell_type": "markdown",
   "id": "cd7f0820",
   "metadata": {},
   "source": [
    "# Content list\n",
    "1. Importing libraries\n",
    "2. Python data types\n"
   ]
  },
  {
   "cell_type": "markdown",
   "id": "da150716",
   "metadata": {},
   "source": [
    "# 1 Importing libraries"
   ]
  },
  {
   "cell_type": "code",
   "execution_count": 2,
   "id": "da8df19c",
   "metadata": {},
   "outputs": [],
   "source": [
    "#import libraries\n",
    "import pandas as pd\n",
    "import numpy as np\n",
    "import os"
   ]
  },
  {
   "cell_type": "markdown",
   "id": "cdb6ca89",
   "metadata": {},
   "source": [
    "# 2 Python Data Types"
   ]
  },
  {
   "cell_type": "markdown",
   "id": "f4f5d5b6",
   "metadata": {},
   "source": [
    "## 01 result of 100"
   ]
  },
  {
   "cell_type": "code",
   "execution_count": 35,
   "id": "dbd7f5d5",
   "metadata": {},
   "outputs": [],
   "source": [
    "x=50"
   ]
  },
  {
   "cell_type": "code",
   "execution_count": 36,
   "id": "8fcd8f56",
   "metadata": {},
   "outputs": [],
   "source": [
    "y=50"
   ]
  },
  {
   "cell_type": "code",
   "execution_count": 37,
   "id": "e9a27235",
   "metadata": {},
   "outputs": [],
   "source": [
    "ans=x+y"
   ]
  },
  {
   "cell_type": "code",
   "execution_count": 38,
   "id": "79c32ab7",
   "metadata": {},
   "outputs": [
    {
     "name": "stdout",
     "output_type": "stream",
     "text": [
      "100\n"
     ]
    }
   ],
   "source": [
    "print(ans)"
   ]
  },
  {
   "cell_type": "code",
   "execution_count": 42,
   "id": "b5aa3b66",
   "metadata": {},
   "outputs": [],
   "source": [
    "a=25"
   ]
  },
  {
   "cell_type": "code",
   "execution_count": 43,
   "id": "8c46ed99",
   "metadata": {},
   "outputs": [],
   "source": [
    "b=75"
   ]
  },
  {
   "cell_type": "code",
   "execution_count": 44,
   "id": "064020fd",
   "metadata": {},
   "outputs": [
    {
     "name": "stdout",
     "output_type": "stream",
     "text": [
      "100\n"
     ]
    }
   ],
   "source": [
    "print(a+b)"
   ]
  },
  {
   "cell_type": "code",
   "execution_count": 48,
   "id": "b86584f4",
   "metadata": {},
   "outputs": [
    {
     "name": "stdout",
     "output_type": "stream",
     "text": [
      "100\n"
     ]
    }
   ],
   "source": [
    "print(a-(-b))"
   ]
  },
  {
   "cell_type": "markdown",
   "id": "f40fffec",
   "metadata": {},
   "source": [
    "## 02 Floating points"
   ]
  },
  {
   "cell_type": "code",
   "execution_count": 49,
   "id": "f9f7f283",
   "metadata": {},
   "outputs": [],
   "source": [
    "e=2.345"
   ]
  },
  {
   "cell_type": "code",
   "execution_count": 50,
   "id": "c63747bc",
   "metadata": {},
   "outputs": [],
   "source": [
    "f=5.342"
   ]
  },
  {
   "cell_type": "code",
   "execution_count": 51,
   "id": "3252a791",
   "metadata": {},
   "outputs": [
    {
     "name": "stdout",
     "output_type": "stream",
     "text": [
      "0.43897416697865976\n"
     ]
    }
   ],
   "source": [
    "print(e/f)"
   ]
  },
  {
   "cell_type": "markdown",
   "id": "eafcc7b2",
   "metadata": {},
   "source": [
    "## 03 Constructing Strings"
   ]
  },
  {
   "cell_type": "code",
   "execution_count": 52,
   "id": "8acc8d91",
   "metadata": {},
   "outputs": [],
   "source": [
    "firstname= 'Ima'"
   ]
  },
  {
   "cell_type": "code",
   "execution_count": 53,
   "id": "c6ceea54",
   "metadata": {},
   "outputs": [],
   "source": [
    "lastname='Ikuru'"
   ]
  },
  {
   "cell_type": "code",
   "execution_count": 54,
   "id": "91bc27e4",
   "metadata": {},
   "outputs": [],
   "source": [
    "space=' '"
   ]
  },
  {
   "cell_type": "code",
   "execution_count": 55,
   "id": "2091abcc",
   "metadata": {},
   "outputs": [],
   "source": [
    "fullname=firstname+space+lastname+space"
   ]
  },
  {
   "cell_type": "code",
   "execution_count": 56,
   "id": "4b81a30e",
   "metadata": {},
   "outputs": [
    {
     "name": "stdout",
     "output_type": "stream",
     "text": [
      "Ima Ikuru \n"
     ]
    }
   ],
   "source": [
    "print(fullname)"
   ]
  },
  {
   "cell_type": "code",
   "execution_count": 57,
   "id": "046744b8",
   "metadata": {},
   "outputs": [],
   "source": [
    "g='My name is'"
   ]
  },
  {
   "cell_type": "code",
   "execution_count": 58,
   "id": "1a50b67e",
   "metadata": {},
   "outputs": [],
   "source": [
    "h='Your name is not'"
   ]
  },
  {
   "cell_type": "code",
   "execution_count": 59,
   "id": "a3a8df74",
   "metadata": {},
   "outputs": [
    {
     "name": "stdout",
     "output_type": "stream",
     "text": [
      "My name is Ima Ikuru \n"
     ]
    }
   ],
   "source": [
    "print(g+space+fullname)"
   ]
  },
  {
   "cell_type": "code",
   "execution_count": 60,
   "id": "8db3c083",
   "metadata": {},
   "outputs": [
    {
     "name": "stdout",
     "output_type": "stream",
     "text": [
      "Your name is not Ima Ikuru \n"
     ]
    }
   ],
   "source": [
    "print(h+space+fullname)"
   ]
  },
  {
   "cell_type": "code",
   "execution_count": 61,
   "id": "8869eb1d",
   "metadata": {},
   "outputs": [
    {
     "data": {
      "text/plain": [
       "'Ima Ikuru Ima Ikuru Ima Ikuru Ima Ikuru Ima Ikuru Ima Ikuru Ima Ikuru Ima Ikuru Ima Ikuru Ima Ikuru Ima Ikuru Ima Ikuru Ima Ikuru Ima Ikuru Ima Ikuru Ima Ikuru Ima Ikuru Ima Ikuru Ima Ikuru Ima Ikuru Ima Ikuru Ima Ikuru Ima Ikuru Ima Ikuru Ima Ikuru Ima Ikuru Ima Ikuru Ima Ikuru Ima Ikuru Ima Ikuru Ima Ikuru Ima Ikuru Ima Ikuru Ima Ikuru Ima Ikuru Ima Ikuru Ima Ikuru Ima Ikuru Ima Ikuru Ima Ikuru Ima Ikuru Ima Ikuru Ima Ikuru Ima Ikuru Ima Ikuru Ima Ikuru Ima Ikuru Ima Ikuru Ima Ikuru Ima Ikuru Ima Ikuru Ima Ikuru Ima Ikuru Ima Ikuru Ima Ikuru Ima Ikuru Ima Ikuru Ima Ikuru Ima Ikuru Ima Ikuru Ima Ikuru Ima Ikuru Ima Ikuru Ima Ikuru Ima Ikuru Ima Ikuru Ima Ikuru Ima Ikuru Ima Ikuru Ima Ikuru Ima Ikuru Ima Ikuru Ima Ikuru Ima Ikuru Ima Ikuru Ima Ikuru Ima Ikuru Ima Ikuru Ima Ikuru Ima Ikuru Ima Ikuru Ima Ikuru Ima Ikuru Ima Ikuru Ima Ikuru Ima Ikuru Ima Ikuru Ima Ikuru Ima Ikuru Ima Ikuru Ima Ikuru Ima Ikuru Ima Ikuru Ima Ikuru Ima Ikuru Ima Ikuru Ima Ikuru Ima Ikuru Ima Ikuru Ima Ikuru '"
      ]
     },
     "execution_count": 61,
     "metadata": {},
     "output_type": "execute_result"
    }
   ],
   "source": [
    "fullname*100"
   ]
  }
 ],
 "metadata": {
  "kernelspec": {
   "display_name": "Python 3 (ipykernel)",
   "language": "python",
   "name": "python3"
  },
  "language_info": {
   "codemirror_mode": {
    "name": "ipython",
    "version": 3
   },
   "file_extension": ".py",
   "mimetype": "text/x-python",
   "name": "python",
   "nbconvert_exporter": "python",
   "pygments_lexer": "ipython3",
   "version": "3.9.12"
  }
 },
 "nbformat": 4,
 "nbformat_minor": 5
}
