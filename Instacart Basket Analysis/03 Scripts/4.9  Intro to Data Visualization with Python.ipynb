{
 "cells": [
  {
   "cell_type": "markdown",
   "id": "77628a2d",
   "metadata": {},
   "source": [
    "# Table of contents"
   ]
  },
  {
   "cell_type": "markdown",
   "id": "e3ae0edb",
   "metadata": {},
   "source": [
    "#### 1- Importing dataframe/ libraries¶\n",
    "#### 2- Data wrangling:\n",
    "                  01 Renaming columns\n",
    "                  02 Changing data types\n",
    "#### 3- Data quality and consistency check: 01 Locating and addressing mixed columns¶\n",
    "                                       02 Locating and addressing missing entries\n",
    "                                       03 Locating and addressing duplicates\n",
    "                  \n",
    "#### 4- Exporting dataframe"
   ]
  },
  {
   "cell_type": "markdown",
   "id": "23997425",
   "metadata": {},
   "source": [
    "## 1 Importing dataframe/libraries"
   ]
  },
  {
   "cell_type": "code",
   "execution_count": 5,
   "id": "d09ade35",
   "metadata": {},
   "outputs": [],
   "source": [
    "#importing libraries\n",
    "import pandas as pd\n",
    "import numpy as np\n",
    "import os\n",
    "import matplotlib.pyplot as plt\n",
    "import seaborn as sns\n",
    "import scipy"
   ]
  },
  {
   "cell_type": "code",
   "execution_count": 6,
   "id": "146ca3b1",
   "metadata": {},
   "outputs": [],
   "source": [
    "#importing dataframe\n",
    "path=r'/Users/Amaikuru/Desktop/08-06-2022 Instacart Basket Analysis.nosync'"
   ]
  },
  {
   "cell_type": "code",
   "execution_count": 7,
   "id": "2dd91ff4",
   "metadata": {},
   "outputs": [],
   "source": [
    "df=pd.read_csv(os.path.join(path, '02 Data', 'Original', 'customers.csv'))"
   ]
  },
  {
   "cell_type": "markdown",
   "id": "a943d237",
   "metadata": {},
   "source": [
    "## 2 Data wrangling "
   ]
  },
  {
   "cell_type": "code",
   "execution_count": 8,
   "id": "94a10f9d",
   "metadata": {},
   "outputs": [
    {
     "data": {
      "text/html": [
       "<div>\n",
       "<style scoped>\n",
       "    .dataframe tbody tr th:only-of-type {\n",
       "        vertical-align: middle;\n",
       "    }\n",
       "\n",
       "    .dataframe tbody tr th {\n",
       "        vertical-align: top;\n",
       "    }\n",
       "\n",
       "    .dataframe thead th {\n",
       "        text-align: right;\n",
       "    }\n",
       "</style>\n",
       "<table border=\"1\" class=\"dataframe\">\n",
       "  <thead>\n",
       "    <tr style=\"text-align: right;\">\n",
       "      <th></th>\n",
       "      <th>user_id</th>\n",
       "      <th>First Name</th>\n",
       "      <th>Surnam</th>\n",
       "      <th>Gender</th>\n",
       "      <th>STATE</th>\n",
       "      <th>Age</th>\n",
       "      <th>date_joined</th>\n",
       "      <th>n_dependants</th>\n",
       "      <th>fam_status</th>\n",
       "      <th>income</th>\n",
       "    </tr>\n",
       "  </thead>\n",
       "  <tbody>\n",
       "    <tr>\n",
       "      <th>0</th>\n",
       "      <td>26711</td>\n",
       "      <td>Deborah</td>\n",
       "      <td>Esquivel</td>\n",
       "      <td>Female</td>\n",
       "      <td>Missouri</td>\n",
       "      <td>48</td>\n",
       "      <td>1/1/2017</td>\n",
       "      <td>3</td>\n",
       "      <td>married</td>\n",
       "      <td>165665</td>\n",
       "    </tr>\n",
       "    <tr>\n",
       "      <th>1</th>\n",
       "      <td>33890</td>\n",
       "      <td>Patricia</td>\n",
       "      <td>Hart</td>\n",
       "      <td>Female</td>\n",
       "      <td>New Mexico</td>\n",
       "      <td>36</td>\n",
       "      <td>1/1/2017</td>\n",
       "      <td>0</td>\n",
       "      <td>single</td>\n",
       "      <td>59285</td>\n",
       "    </tr>\n",
       "    <tr>\n",
       "      <th>2</th>\n",
       "      <td>65803</td>\n",
       "      <td>Kenneth</td>\n",
       "      <td>Farley</td>\n",
       "      <td>Male</td>\n",
       "      <td>Idaho</td>\n",
       "      <td>35</td>\n",
       "      <td>1/1/2017</td>\n",
       "      <td>2</td>\n",
       "      <td>married</td>\n",
       "      <td>99568</td>\n",
       "    </tr>\n",
       "    <tr>\n",
       "      <th>3</th>\n",
       "      <td>125935</td>\n",
       "      <td>Michelle</td>\n",
       "      <td>Hicks</td>\n",
       "      <td>Female</td>\n",
       "      <td>Iowa</td>\n",
       "      <td>40</td>\n",
       "      <td>1/1/2017</td>\n",
       "      <td>0</td>\n",
       "      <td>single</td>\n",
       "      <td>42049</td>\n",
       "    </tr>\n",
       "    <tr>\n",
       "      <th>4</th>\n",
       "      <td>130797</td>\n",
       "      <td>Ann</td>\n",
       "      <td>Gilmore</td>\n",
       "      <td>Female</td>\n",
       "      <td>Maryland</td>\n",
       "      <td>26</td>\n",
       "      <td>1/1/2017</td>\n",
       "      <td>1</td>\n",
       "      <td>married</td>\n",
       "      <td>40374</td>\n",
       "    </tr>\n",
       "    <tr>\n",
       "      <th>...</th>\n",
       "      <td>...</td>\n",
       "      <td>...</td>\n",
       "      <td>...</td>\n",
       "      <td>...</td>\n",
       "      <td>...</td>\n",
       "      <td>...</td>\n",
       "      <td>...</td>\n",
       "      <td>...</td>\n",
       "      <td>...</td>\n",
       "      <td>...</td>\n",
       "    </tr>\n",
       "    <tr>\n",
       "      <th>206204</th>\n",
       "      <td>168073</td>\n",
       "      <td>Lisa</td>\n",
       "      <td>Case</td>\n",
       "      <td>Female</td>\n",
       "      <td>North Carolina</td>\n",
       "      <td>44</td>\n",
       "      <td>4/1/2020</td>\n",
       "      <td>1</td>\n",
       "      <td>married</td>\n",
       "      <td>148828</td>\n",
       "    </tr>\n",
       "    <tr>\n",
       "      <th>206205</th>\n",
       "      <td>49635</td>\n",
       "      <td>Jeremy</td>\n",
       "      <td>Robbins</td>\n",
       "      <td>Male</td>\n",
       "      <td>Hawaii</td>\n",
       "      <td>62</td>\n",
       "      <td>4/1/2020</td>\n",
       "      <td>3</td>\n",
       "      <td>married</td>\n",
       "      <td>168639</td>\n",
       "    </tr>\n",
       "    <tr>\n",
       "      <th>206206</th>\n",
       "      <td>135902</td>\n",
       "      <td>Doris</td>\n",
       "      <td>Richmond</td>\n",
       "      <td>Female</td>\n",
       "      <td>Missouri</td>\n",
       "      <td>66</td>\n",
       "      <td>4/1/2020</td>\n",
       "      <td>2</td>\n",
       "      <td>married</td>\n",
       "      <td>53374</td>\n",
       "    </tr>\n",
       "    <tr>\n",
       "      <th>206207</th>\n",
       "      <td>81095</td>\n",
       "      <td>Rose</td>\n",
       "      <td>Rollins</td>\n",
       "      <td>Female</td>\n",
       "      <td>California</td>\n",
       "      <td>27</td>\n",
       "      <td>4/1/2020</td>\n",
       "      <td>1</td>\n",
       "      <td>married</td>\n",
       "      <td>99799</td>\n",
       "    </tr>\n",
       "    <tr>\n",
       "      <th>206208</th>\n",
       "      <td>80148</td>\n",
       "      <td>Cynthia</td>\n",
       "      <td>Noble</td>\n",
       "      <td>Female</td>\n",
       "      <td>New York</td>\n",
       "      <td>55</td>\n",
       "      <td>4/1/2020</td>\n",
       "      <td>1</td>\n",
       "      <td>married</td>\n",
       "      <td>57095</td>\n",
       "    </tr>\n",
       "  </tbody>\n",
       "</table>\n",
       "<p>206209 rows × 10 columns</p>\n",
       "</div>"
      ],
      "text/plain": [
       "        user_id First Name    Surnam  Gender           STATE  Age date_joined  \\\n",
       "0         26711    Deborah  Esquivel  Female        Missouri   48    1/1/2017   \n",
       "1         33890   Patricia      Hart  Female      New Mexico   36    1/1/2017   \n",
       "2         65803    Kenneth    Farley    Male           Idaho   35    1/1/2017   \n",
       "3        125935   Michelle     Hicks  Female            Iowa   40    1/1/2017   \n",
       "4        130797        Ann   Gilmore  Female        Maryland   26    1/1/2017   \n",
       "...         ...        ...       ...     ...             ...  ...         ...   \n",
       "206204   168073       Lisa      Case  Female  North Carolina   44    4/1/2020   \n",
       "206205    49635     Jeremy   Robbins    Male          Hawaii   62    4/1/2020   \n",
       "206206   135902      Doris  Richmond  Female        Missouri   66    4/1/2020   \n",
       "206207    81095       Rose   Rollins  Female      California   27    4/1/2020   \n",
       "206208    80148    Cynthia     Noble  Female        New York   55    4/1/2020   \n",
       "\n",
       "        n_dependants fam_status  income  \n",
       "0                  3    married  165665  \n",
       "1                  0     single   59285  \n",
       "2                  2    married   99568  \n",
       "3                  0     single   42049  \n",
       "4                  1    married   40374  \n",
       "...              ...        ...     ...  \n",
       "206204             1    married  148828  \n",
       "206205             3    married  168639  \n",
       "206206             2    married   53374  \n",
       "206207             1    married   99799  \n",
       "206208             1    married   57095  \n",
       "\n",
       "[206209 rows x 10 columns]"
      ]
     },
     "execution_count": 8,
     "metadata": {},
     "output_type": "execute_result"
    }
   ],
   "source": [
    "df"
   ]
  },
  {
   "cell_type": "markdown",
   "id": "960730d4",
   "metadata": {},
   "source": [
    "### 01 Renaming columns"
   ]
  },
  {
   "cell_type": "code",
   "execution_count": 9,
   "id": "688cc50b",
   "metadata": {},
   "outputs": [],
   "source": [
    "#renaming the first name column first_name\n",
    "df.rename(columns = {'First Name' : 'first_name'}, inplace = True)"
   ]
  },
  {
   "cell_type": "code",
   "execution_count": 10,
   "id": "a1512af2",
   "metadata": {},
   "outputs": [],
   "source": [
    "# rename the surnam column last_name\n",
    "df.rename(columns = {'Surnam' : 'last_name'}, inplace = True)"
   ]
  },
  {
   "cell_type": "code",
   "execution_count": 11,
   "id": "b3d568de",
   "metadata": {},
   "outputs": [],
   "source": [
    "#renaming n_dependants column no_of_dependents\n",
    "df.rename(columns = {'n_dependants' : 'no_of_dependents'}, inplace = True)"
   ]
  },
  {
   "cell_type": "code",
   "execution_count": 12,
   "id": "d4d6c24a",
   "metadata": {},
   "outputs": [],
   "source": [
    "# renaming fam_status column marital_status\n",
    "df.rename(columns = {'fam_status' : 'marital_status'}, inplace = True)"
   ]
  },
  {
   "cell_type": "code",
   "execution_count": 13,
   "id": "1ac5d972",
   "metadata": {},
   "outputs": [],
   "source": [
    "#renaming Gender column gender\n",
    "df.rename(columns = {'Gender' : 'gender'}, inplace = True)"
   ]
  },
  {
   "cell_type": "code",
   "execution_count": 14,
   "id": "7360b744",
   "metadata": {},
   "outputs": [],
   "source": [
    "#renaming Age column age\n",
    "df.rename(columns = {'Age' : 'age'}, inplace = True)"
   ]
  },
  {
   "cell_type": "code",
   "execution_count": 15,
   "id": "e2122b01",
   "metadata": {},
   "outputs": [],
   "source": [
    "#renaming STATE column state\n",
    "df.rename(columns = {'STATE' : 'state'}, inplace = True)"
   ]
  },
  {
   "cell_type": "code",
   "execution_count": 16,
   "id": "f8cdea71",
   "metadata": {},
   "outputs": [
    {
     "data": {
      "text/html": [
       "<div>\n",
       "<style scoped>\n",
       "    .dataframe tbody tr th:only-of-type {\n",
       "        vertical-align: middle;\n",
       "    }\n",
       "\n",
       "    .dataframe tbody tr th {\n",
       "        vertical-align: top;\n",
       "    }\n",
       "\n",
       "    .dataframe thead th {\n",
       "        text-align: right;\n",
       "    }\n",
       "</style>\n",
       "<table border=\"1\" class=\"dataframe\">\n",
       "  <thead>\n",
       "    <tr style=\"text-align: right;\">\n",
       "      <th></th>\n",
       "      <th>user_id</th>\n",
       "      <th>first_name</th>\n",
       "      <th>last_name</th>\n",
       "      <th>gender</th>\n",
       "      <th>state</th>\n",
       "      <th>age</th>\n",
       "      <th>date_joined</th>\n",
       "      <th>no_of_dependents</th>\n",
       "      <th>marital_status</th>\n",
       "      <th>income</th>\n",
       "    </tr>\n",
       "  </thead>\n",
       "  <tbody>\n",
       "    <tr>\n",
       "      <th>0</th>\n",
       "      <td>26711</td>\n",
       "      <td>Deborah</td>\n",
       "      <td>Esquivel</td>\n",
       "      <td>Female</td>\n",
       "      <td>Missouri</td>\n",
       "      <td>48</td>\n",
       "      <td>1/1/2017</td>\n",
       "      <td>3</td>\n",
       "      <td>married</td>\n",
       "      <td>165665</td>\n",
       "    </tr>\n",
       "    <tr>\n",
       "      <th>1</th>\n",
       "      <td>33890</td>\n",
       "      <td>Patricia</td>\n",
       "      <td>Hart</td>\n",
       "      <td>Female</td>\n",
       "      <td>New Mexico</td>\n",
       "      <td>36</td>\n",
       "      <td>1/1/2017</td>\n",
       "      <td>0</td>\n",
       "      <td>single</td>\n",
       "      <td>59285</td>\n",
       "    </tr>\n",
       "    <tr>\n",
       "      <th>2</th>\n",
       "      <td>65803</td>\n",
       "      <td>Kenneth</td>\n",
       "      <td>Farley</td>\n",
       "      <td>Male</td>\n",
       "      <td>Idaho</td>\n",
       "      <td>35</td>\n",
       "      <td>1/1/2017</td>\n",
       "      <td>2</td>\n",
       "      <td>married</td>\n",
       "      <td>99568</td>\n",
       "    </tr>\n",
       "    <tr>\n",
       "      <th>3</th>\n",
       "      <td>125935</td>\n",
       "      <td>Michelle</td>\n",
       "      <td>Hicks</td>\n",
       "      <td>Female</td>\n",
       "      <td>Iowa</td>\n",
       "      <td>40</td>\n",
       "      <td>1/1/2017</td>\n",
       "      <td>0</td>\n",
       "      <td>single</td>\n",
       "      <td>42049</td>\n",
       "    </tr>\n",
       "    <tr>\n",
       "      <th>4</th>\n",
       "      <td>130797</td>\n",
       "      <td>Ann</td>\n",
       "      <td>Gilmore</td>\n",
       "      <td>Female</td>\n",
       "      <td>Maryland</td>\n",
       "      <td>26</td>\n",
       "      <td>1/1/2017</td>\n",
       "      <td>1</td>\n",
       "      <td>married</td>\n",
       "      <td>40374</td>\n",
       "    </tr>\n",
       "  </tbody>\n",
       "</table>\n",
       "</div>"
      ],
      "text/plain": [
       "   user_id first_name last_name  gender       state  age date_joined  \\\n",
       "0    26711    Deborah  Esquivel  Female    Missouri   48    1/1/2017   \n",
       "1    33890   Patricia      Hart  Female  New Mexico   36    1/1/2017   \n",
       "2    65803    Kenneth    Farley    Male       Idaho   35    1/1/2017   \n",
       "3   125935   Michelle     Hicks  Female        Iowa   40    1/1/2017   \n",
       "4   130797        Ann   Gilmore  Female    Maryland   26    1/1/2017   \n",
       "\n",
       "   no_of_dependents marital_status  income  \n",
       "0                 3        married  165665  \n",
       "1                 0         single   59285  \n",
       "2                 2        married   99568  \n",
       "3                 0         single   42049  \n",
       "4                 1        married   40374  "
      ]
     },
     "execution_count": 16,
     "metadata": {},
     "output_type": "execute_result"
    }
   ],
   "source": [
    "df.head()"
   ]
  },
  {
   "cell_type": "markdown",
   "id": "b7a84e86",
   "metadata": {},
   "source": [
    "### 02 Changing data types"
   ]
  },
  {
   "cell_type": "code",
   "execution_count": 17,
   "id": "47910dcb",
   "metadata": {},
   "outputs": [
    {
     "data": {
      "text/plain": [
       "user_id              int64\n",
       "first_name          object\n",
       "last_name           object\n",
       "gender              object\n",
       "state               object\n",
       "age                  int64\n",
       "date_joined         object\n",
       "no_of_dependents     int64\n",
       "marital_status      object\n",
       "income               int64\n",
       "dtype: object"
      ]
     },
     "execution_count": 17,
     "metadata": {},
     "output_type": "execute_result"
    }
   ],
   "source": [
    "#looking through data types\n",
    "df.dtypes\n"
   ]
  },
  {
   "cell_type": "markdown",
   "id": "1bc0e380",
   "metadata": {},
   "source": [
    "#### the data types are fine"
   ]
  },
  {
   "cell_type": "markdown",
   "id": "43e59877",
   "metadata": {},
   "source": [
    "## 3 Data quality and consistency check"
   ]
  },
  {
   "cell_type": "markdown",
   "id": "534c243d",
   "metadata": {},
   "source": [
    "### 01 Locating and addressing mixed columns"
   ]
  },
  {
   "cell_type": "code",
   "execution_count": 18,
   "id": "a3031c11",
   "metadata": {},
   "outputs": [
    {
     "name": "stdout",
     "output_type": "stream",
     "text": [
      "first_name\n"
     ]
    }
   ],
   "source": [
    "#looking  for mixed data types\n",
    "for col in df.columns.tolist():\n",
    "  weird = (df[[col]].applymap(type) != df[[col]].iloc[0].apply(type)).any(axis = 1)\n",
    "  if len (df[weird]) > 0:\n",
    "    print (col)"
   ]
  },
  {
   "cell_type": "markdown",
   "id": "d7a30e82",
   "metadata": {},
   "source": [
    "#### The first_name column has mixed data types"
   ]
  },
  {
   "cell_type": "code",
   "execution_count": 19,
   "id": "d6ed1178",
   "metadata": {},
   "outputs": [],
   "source": [
    "#changing all first_name entries to string\n",
    "df['first_name'] = df['first_name'].astype('str')"
   ]
  },
  {
   "cell_type": "code",
   "execution_count": 20,
   "id": "020b7322",
   "metadata": {},
   "outputs": [],
   "source": [
    "#re-checking \n",
    "for col in df.columns.tolist():\n",
    "  weird = (df[[col]].applymap(type) != df[[col]].iloc[0].apply(type)).any(axis = 1)\n",
    "  if len (df[weird]) > 0:\n",
    "    print (col)"
   ]
  },
  {
   "cell_type": "markdown",
   "id": "9b6cfa76",
   "metadata": {},
   "source": [
    "#### There is no longer any mixed column"
   ]
  },
  {
   "cell_type": "markdown",
   "id": "bca243e3",
   "metadata": {},
   "source": [
    "###  02 Locating and addressing missing entries"
   ]
  },
  {
   "cell_type": "code",
   "execution_count": 21,
   "id": "1856733b",
   "metadata": {},
   "outputs": [
    {
     "data": {
      "text/plain": [
       "user_id             0\n",
       "first_name          0\n",
       "last_name           0\n",
       "gender              0\n",
       "state               0\n",
       "age                 0\n",
       "date_joined         0\n",
       "no_of_dependents    0\n",
       "marital_status      0\n",
       "income              0\n",
       "dtype: int64"
      ]
     },
     "execution_count": 21,
     "metadata": {},
     "output_type": "execute_result"
    }
   ],
   "source": [
    "#counting the missing values in each column\n",
    "df.isnull().sum()"
   ]
  },
  {
   "cell_type": "markdown",
   "id": "1d5cfcf3",
   "metadata": {},
   "source": [
    "#### There are no missing entries\n"
   ]
  },
  {
   "cell_type": "markdown",
   "id": "14ed13a4",
   "metadata": {},
   "source": [
    "### 03 Locating and addressing duplicates"
   ]
  },
  {
   "cell_type": "code",
   "execution_count": 22,
   "id": "425f36f3",
   "metadata": {},
   "outputs": [],
   "source": [
    "#looking for full duplicates\n",
    "df_dups = df[df.duplicated()]"
   ]
  },
  {
   "cell_type": "markdown",
   "id": "3e363af0",
   "metadata": {},
   "source": [
    "#### There are no duplicates"
   ]
  },
  {
   "cell_type": "code",
   "execution_count": 23,
   "id": "0b9b4375",
   "metadata": {},
   "outputs": [],
   "source": [
    "#importing latest merged data\n",
    "df_big=pd.read_pickle(os.path.join(path, '02 Data', 'Prepared', 'orders_products_merged_grouped.pkl'))"
   ]
  },
  {
   "cell_type": "code",
   "execution_count": 24,
   "id": "10a2ecc8",
   "metadata": {},
   "outputs": [
    {
     "data": {
      "text/plain": [
       "product_id                   int64\n",
       "product_name                object\n",
       "aisle_id                     int64\n",
       "department_id                int64\n",
       "prices                     float64\n",
       "order_id                     int64\n",
       "user_id                      int64\n",
       "order_number                 int64\n",
       "orders_day_of_week           int64\n",
       "order_hour_of_day            int64\n",
       "days_since_prior_order     float64\n",
       "add_to_cart_order            int64\n",
       "reordered                    int64\n",
       "_merge                    category\n",
       "price_range_loc             object\n",
       "busiest_day                 object\n",
       "busiest_days                object\n",
       "busiest_periods             object\n",
       "max_order                    int64\n",
       "loyalty_flag                object\n",
       "mean_price                 float64\n",
       "spending_flag               object\n",
       "median_prior_days          float64\n",
       "order_frequency             object\n",
       "dtype: object"
      ]
     },
     "execution_count": 24,
     "metadata": {},
     "output_type": "execute_result"
    }
   ],
   "source": [
    "#checking datatypes for merging\n",
    "df_big.dtypes"
   ]
  },
  {
   "cell_type": "code",
   "execution_count": 25,
   "id": "2db91273",
   "metadata": {},
   "outputs": [],
   "source": [
    "#merging on user_id columnn\n",
    "df_merged=df.merge(df_big, on = 'user_id', how = 'inner')"
   ]
  },
  {
   "cell_type": "code",
   "execution_count": 26,
   "id": "eaa92a81",
   "metadata": {},
   "outputs": [
    {
     "data": {
      "text/html": [
       "<div>\n",
       "<style scoped>\n",
       "    .dataframe tbody tr th:only-of-type {\n",
       "        vertical-align: middle;\n",
       "    }\n",
       "\n",
       "    .dataframe tbody tr th {\n",
       "        vertical-align: top;\n",
       "    }\n",
       "\n",
       "    .dataframe thead th {\n",
       "        text-align: right;\n",
       "    }\n",
       "</style>\n",
       "<table border=\"1\" class=\"dataframe\">\n",
       "  <thead>\n",
       "    <tr style=\"text-align: right;\">\n",
       "      <th></th>\n",
       "      <th>user_id</th>\n",
       "      <th>first_name</th>\n",
       "      <th>last_name</th>\n",
       "      <th>gender</th>\n",
       "      <th>state</th>\n",
       "      <th>age</th>\n",
       "      <th>date_joined</th>\n",
       "      <th>no_of_dependents</th>\n",
       "      <th>marital_status</th>\n",
       "      <th>income</th>\n",
       "      <th>...</th>\n",
       "      <th>price_range_loc</th>\n",
       "      <th>busiest_day</th>\n",
       "      <th>busiest_days</th>\n",
       "      <th>busiest_periods</th>\n",
       "      <th>max_order</th>\n",
       "      <th>loyalty_flag</th>\n",
       "      <th>mean_price</th>\n",
       "      <th>spending_flag</th>\n",
       "      <th>median_prior_days</th>\n",
       "      <th>order_frequency</th>\n",
       "    </tr>\n",
       "  </thead>\n",
       "  <tbody>\n",
       "    <tr>\n",
       "      <th>0</th>\n",
       "      <td>26711</td>\n",
       "      <td>Deborah</td>\n",
       "      <td>Esquivel</td>\n",
       "      <td>Female</td>\n",
       "      <td>Missouri</td>\n",
       "      <td>48</td>\n",
       "      <td>1/1/2017</td>\n",
       "      <td>3</td>\n",
       "      <td>married</td>\n",
       "      <td>165665</td>\n",
       "      <td>...</td>\n",
       "      <td>Mid-range product</td>\n",
       "      <td>Regularly busy</td>\n",
       "      <td>Busiest days</td>\n",
       "      <td>Most orders</td>\n",
       "      <td>8</td>\n",
       "      <td>New customer</td>\n",
       "      <td>7.988889</td>\n",
       "      <td>Low Spender</td>\n",
       "      <td>19.0</td>\n",
       "      <td>Regular customer</td>\n",
       "    </tr>\n",
       "    <tr>\n",
       "      <th>1</th>\n",
       "      <td>26711</td>\n",
       "      <td>Deborah</td>\n",
       "      <td>Esquivel</td>\n",
       "      <td>Female</td>\n",
       "      <td>Missouri</td>\n",
       "      <td>48</td>\n",
       "      <td>1/1/2017</td>\n",
       "      <td>3</td>\n",
       "      <td>married</td>\n",
       "      <td>165665</td>\n",
       "      <td>...</td>\n",
       "      <td>Mid-range product</td>\n",
       "      <td>Regularly busy</td>\n",
       "      <td>Regularly busy</td>\n",
       "      <td>Most orders</td>\n",
       "      <td>8</td>\n",
       "      <td>New customer</td>\n",
       "      <td>7.988889</td>\n",
       "      <td>Low Spender</td>\n",
       "      <td>19.0</td>\n",
       "      <td>Regular customer</td>\n",
       "    </tr>\n",
       "    <tr>\n",
       "      <th>2</th>\n",
       "      <td>26711</td>\n",
       "      <td>Deborah</td>\n",
       "      <td>Esquivel</td>\n",
       "      <td>Female</td>\n",
       "      <td>Missouri</td>\n",
       "      <td>48</td>\n",
       "      <td>1/1/2017</td>\n",
       "      <td>3</td>\n",
       "      <td>married</td>\n",
       "      <td>165665</td>\n",
       "      <td>...</td>\n",
       "      <td>Mid-range product</td>\n",
       "      <td>Regularly busy</td>\n",
       "      <td>Busiest days</td>\n",
       "      <td>Most orders</td>\n",
       "      <td>8</td>\n",
       "      <td>New customer</td>\n",
       "      <td>7.988889</td>\n",
       "      <td>Low Spender</td>\n",
       "      <td>19.0</td>\n",
       "      <td>Regular customer</td>\n",
       "    </tr>\n",
       "    <tr>\n",
       "      <th>3</th>\n",
       "      <td>26711</td>\n",
       "      <td>Deborah</td>\n",
       "      <td>Esquivel</td>\n",
       "      <td>Female</td>\n",
       "      <td>Missouri</td>\n",
       "      <td>48</td>\n",
       "      <td>1/1/2017</td>\n",
       "      <td>3</td>\n",
       "      <td>married</td>\n",
       "      <td>165665</td>\n",
       "      <td>...</td>\n",
       "      <td>Low-range product</td>\n",
       "      <td>Regularly busy</td>\n",
       "      <td>Regularly busy</td>\n",
       "      <td>Most orders</td>\n",
       "      <td>8</td>\n",
       "      <td>New customer</td>\n",
       "      <td>7.988889</td>\n",
       "      <td>Low Spender</td>\n",
       "      <td>19.0</td>\n",
       "      <td>Regular customer</td>\n",
       "    </tr>\n",
       "    <tr>\n",
       "      <th>4</th>\n",
       "      <td>26711</td>\n",
       "      <td>Deborah</td>\n",
       "      <td>Esquivel</td>\n",
       "      <td>Female</td>\n",
       "      <td>Missouri</td>\n",
       "      <td>48</td>\n",
       "      <td>1/1/2017</td>\n",
       "      <td>3</td>\n",
       "      <td>married</td>\n",
       "      <td>165665</td>\n",
       "      <td>...</td>\n",
       "      <td>Low-range product</td>\n",
       "      <td>Regularly busy</td>\n",
       "      <td>Least busy days</td>\n",
       "      <td>Most orders</td>\n",
       "      <td>8</td>\n",
       "      <td>New customer</td>\n",
       "      <td>7.988889</td>\n",
       "      <td>Low Spender</td>\n",
       "      <td>19.0</td>\n",
       "      <td>Regular customer</td>\n",
       "    </tr>\n",
       "  </tbody>\n",
       "</table>\n",
       "<p>5 rows × 33 columns</p>\n",
       "</div>"
      ],
      "text/plain": [
       "   user_id first_name last_name  gender     state  age date_joined  \\\n",
       "0    26711    Deborah  Esquivel  Female  Missouri   48    1/1/2017   \n",
       "1    26711    Deborah  Esquivel  Female  Missouri   48    1/1/2017   \n",
       "2    26711    Deborah  Esquivel  Female  Missouri   48    1/1/2017   \n",
       "3    26711    Deborah  Esquivel  Female  Missouri   48    1/1/2017   \n",
       "4    26711    Deborah  Esquivel  Female  Missouri   48    1/1/2017   \n",
       "\n",
       "   no_of_dependents marital_status  income  ...    price_range_loc  \\\n",
       "0                 3        married  165665  ...  Mid-range product   \n",
       "1                 3        married  165665  ...  Mid-range product   \n",
       "2                 3        married  165665  ...  Mid-range product   \n",
       "3                 3        married  165665  ...  Low-range product   \n",
       "4                 3        married  165665  ...  Low-range product   \n",
       "\n",
       "      busiest_day     busiest_days  busiest_periods  max_order  loyalty_flag  \\\n",
       "0  Regularly busy     Busiest days      Most orders          8  New customer   \n",
       "1  Regularly busy   Regularly busy      Most orders          8  New customer   \n",
       "2  Regularly busy     Busiest days      Most orders          8  New customer   \n",
       "3  Regularly busy   Regularly busy      Most orders          8  New customer   \n",
       "4  Regularly busy  Least busy days      Most orders          8  New customer   \n",
       "\n",
       "   mean_price  spending_flag  median_prior_days   order_frequency  \n",
       "0    7.988889    Low Spender               19.0  Regular customer  \n",
       "1    7.988889    Low Spender               19.0  Regular customer  \n",
       "2    7.988889    Low Spender               19.0  Regular customer  \n",
       "3    7.988889    Low Spender               19.0  Regular customer  \n",
       "4    7.988889    Low Spender               19.0  Regular customer  \n",
       "\n",
       "[5 rows x 33 columns]"
      ]
     },
     "execution_count": 26,
     "metadata": {},
     "output_type": "execute_result"
    }
   ],
   "source": [
    "df_merged.head()"
   ]
  },
  {
   "cell_type": "code",
   "execution_count": 28,
   "id": "a6231a7b",
   "metadata": {},
   "outputs": [
    {
     "data": {
      "text/plain": [
       "(32404859, 33)"
      ]
     },
     "execution_count": 28,
     "metadata": {},
     "output_type": "execute_result"
    }
   ],
   "source": [
    "df_merged.shape"
   ]
  },
  {
   "cell_type": "markdown",
   "id": "2321818c",
   "metadata": {},
   "source": [
    "## 4 Exporting dataframe"
   ]
  },
  {
   "cell_type": "code",
   "execution_count": 29,
   "id": "dded7ce8",
   "metadata": {},
   "outputs": [],
   "source": [
    "#exporting dataframe\n",
    "df_merged.to_pickle(os.path.join(path, '02 Data','Prepared', 'final_merge.pkl'))"
   ]
  }
 ],
 "metadata": {
  "kernelspec": {
   "display_name": "Python 3 (ipykernel)",
   "language": "python",
   "name": "python3"
  },
  "language_info": {
   "codemirror_mode": {
    "name": "ipython",
    "version": 3
   },
   "file_extension": ".py",
   "mimetype": "text/x-python",
   "name": "python",
   "nbconvert_exporter": "python",
   "pygments_lexer": "ipython3",
   "version": "3.9.12"
  }
 },
 "nbformat": 4,
 "nbformat_minor": 5
}
